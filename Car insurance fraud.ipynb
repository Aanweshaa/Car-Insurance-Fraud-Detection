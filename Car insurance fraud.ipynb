{
 "cells": [
  {
   "cell_type": "code",
   "execution_count": 1,
   "id": "30af05c3",
   "metadata": {},
   "outputs": [
    {
     "name": "stderr",
     "output_type": "stream",
     "text": [
      "Installing package into 'C:/Users/anwes/AppData/Local/R/win-library/4.2'\n",
      "(as 'lib' is unspecified)\n",
      "\n"
     ]
    },
    {
     "name": "stdout",
     "output_type": "stream",
     "text": [
      "package 'dplyr' successfully unpacked and MD5 sums checked\n"
     ]
    },
    {
     "name": "stderr",
     "output_type": "stream",
     "text": [
      "Warning message:\n",
      "\"cannot remove prior installation of package 'dplyr'\"\n",
      "Warning message in file.copy(savedcopy, lib, recursive = TRUE):\n",
      "\"problem copying C:\\Users\\anwes\\AppData\\Local\\R\\win-library\\4.2\\00LOCK\\dplyr\\libs\\x64\\dplyr.dll to C:\\Users\\anwes\\AppData\\Local\\R\\win-library\\4.2\\dplyr\\libs\\x64\\dplyr.dll: Permission denied\"\n",
      "Warning message:\n",
      "\"restored 'dplyr'\"\n"
     ]
    },
    {
     "name": "stdout",
     "output_type": "stream",
     "text": [
      "\n",
      "The downloaded binary packages are in\n",
      "\tC:\\Users\\anwes\\AppData\\Local\\Temp\\RtmpgR9xvg\\downloaded_packages\n"
     ]
    },
    {
     "name": "stderr",
     "output_type": "stream",
     "text": [
      "\n",
      "Attaching package: 'dplyr'\n",
      "\n",
      "\n",
      "The following objects are masked from 'package:stats':\n",
      "\n",
      "    filter, lag\n",
      "\n",
      "\n",
      "The following objects are masked from 'package:base':\n",
      "\n",
      "    intersect, setdiff, setequal, union\n",
      "\n",
      "\n",
      "Installing package into 'C:/Users/anwes/AppData/Local/R/win-library/4.2'\n",
      "(as 'lib' is unspecified)\n",
      "\n"
     ]
    },
    {
     "name": "stdout",
     "output_type": "stream",
     "text": [
      "package 'caTools' successfully unpacked and MD5 sums checked\n"
     ]
    },
    {
     "name": "stderr",
     "output_type": "stream",
     "text": [
      "Warning message:\n",
      "\"cannot remove prior installation of package 'caTools'\"\n",
      "Warning message in file.copy(savedcopy, lib, recursive = TRUE):\n",
      "\"problem copying C:\\Users\\anwes\\AppData\\Local\\R\\win-library\\4.2\\00LOCK\\caTools\\libs\\x64\\caTools.dll to C:\\Users\\anwes\\AppData\\Local\\R\\win-library\\4.2\\caTools\\libs\\x64\\caTools.dll: Permission denied\"\n",
      "Warning message:\n",
      "\"restored 'caTools'\"\n"
     ]
    },
    {
     "name": "stdout",
     "output_type": "stream",
     "text": [
      "\n",
      "The downloaded binary packages are in\n",
      "\tC:\\Users\\anwes\\AppData\\Local\\Temp\\RtmpgR9xvg\\downloaded_packages\n"
     ]
    },
    {
     "name": "stderr",
     "output_type": "stream",
     "text": [
      "Installing package into 'C:/Users/anwes/AppData/Local/R/win-library/4.2'\n",
      "(as 'lib' is unspecified)\n",
      "\n"
     ]
    },
    {
     "name": "stdout",
     "output_type": "stream",
     "text": [
      "package 'randomForest' successfully unpacked and MD5 sums checked\n"
     ]
    },
    {
     "name": "stderr",
     "output_type": "stream",
     "text": [
      "Warning message:\n",
      "\"cannot remove prior installation of package 'randomForest'\"\n",
      "Warning message in file.copy(savedcopy, lib, recursive = TRUE):\n",
      "\"problem copying C:\\Users\\anwes\\AppData\\Local\\R\\win-library\\4.2\\00LOCK\\randomForest\\libs\\x64\\randomForest.dll to C:\\Users\\anwes\\AppData\\Local\\R\\win-library\\4.2\\randomForest\\libs\\x64\\randomForest.dll: Permission denied\"\n",
      "Warning message:\n",
      "\"restored 'randomForest'\"\n"
     ]
    },
    {
     "name": "stdout",
     "output_type": "stream",
     "text": [
      "\n",
      "The downloaded binary packages are in\n",
      "\tC:\\Users\\anwes\\AppData\\Local\\Temp\\RtmpgR9xvg\\downloaded_packages\n"
     ]
    },
    {
     "name": "stderr",
     "output_type": "stream",
     "text": [
      "randomForest 4.7-1.1\n",
      "\n",
      "Type rfNews() to see new features/changes/bug fixes.\n",
      "\n",
      "\n",
      "Attaching package: 'randomForest'\n",
      "\n",
      "\n",
      "The following object is masked from 'package:dplyr':\n",
      "\n",
      "    combine\n",
      "\n",
      "\n",
      "Installing package into 'C:/Users/anwes/AppData/Local/R/win-library/4.2'\n",
      "(as 'lib' is unspecified)\n",
      "\n"
     ]
    },
    {
     "name": "stdout",
     "output_type": "stream",
     "text": [
      "package 'caret' successfully unpacked and MD5 sums checked\n"
     ]
    },
    {
     "name": "stderr",
     "output_type": "stream",
     "text": [
      "Warning message:\n",
      "\"cannot remove prior installation of package 'caret'\"\n",
      "Warning message in file.copy(savedcopy, lib, recursive = TRUE):\n",
      "\"problem copying C:\\Users\\anwes\\AppData\\Local\\R\\win-library\\4.2\\00LOCK\\caret\\libs\\x64\\caret.dll to C:\\Users\\anwes\\AppData\\Local\\R\\win-library\\4.2\\caret\\libs\\x64\\caret.dll: Permission denied\"\n",
      "Warning message:\n",
      "\"restored 'caret'\"\n"
     ]
    },
    {
     "name": "stdout",
     "output_type": "stream",
     "text": [
      "\n",
      "The downloaded binary packages are in\n",
      "\tC:\\Users\\anwes\\AppData\\Local\\Temp\\RtmpgR9xvg\\downloaded_packages\n"
     ]
    },
    {
     "name": "stderr",
     "output_type": "stream",
     "text": [
      "Loading required package: ggplot2\n",
      "\n",
      "\n",
      "Attaching package: 'ggplot2'\n",
      "\n",
      "\n",
      "The following object is masked from 'package:randomForest':\n",
      "\n",
      "    margin\n",
      "\n",
      "\n",
      "Loading required package: lattice\n",
      "\n",
      "corrplot 0.92 loaded\n",
      "\n",
      "Loading required package: colorspace\n",
      "\n",
      "Loading required package: grid\n",
      "\n",
      "VIM is ready to use.\n",
      "\n",
      "\n",
      "Suggestions and bug-reports can be submitted at: https://github.com/statistikat/VIM/issues\n",
      "\n",
      "\n",
      "Attaching package: 'VIM'\n",
      "\n",
      "\n",
      "The following object is masked from 'package:datasets':\n",
      "\n",
      "    sleep\n",
      "\n",
      "\n"
     ]
    }
   ],
   "source": [
    "install.packages(\"dplyr\")                       # Install dplyr for data manipulation\n",
    "library(\"dplyr\")                                # Load dplyr\n",
    "\n",
    "# Installing the package \n",
    "install.packages(\"caTools\")    # For Logistic regression \n",
    "library(caTools)\n",
    "\n",
    "install.packages('randomForest') # For generating random forest model\n",
    "library(randomForest)\n",
    "\n",
    "install.packages('caret')                    # classification and regression training : The library caret has a function to make prediction.\n",
    "library(caret)\n",
    "\n",
    "library(corrplot)                            # Correlation matrix\n",
    "\n",
    "library(rpart)                               # for random Forest\n",
    "\n",
    "library(VIM)\n",
    "library(magrittr)"
   ]
  },
  {
   "cell_type": "code",
   "execution_count": 2,
   "id": "2286e8a3",
   "metadata": {},
   "outputs": [],
   "source": [
    "mydata = read.csv(\"E:\\\\DMML\\\\project\\\\data\\\\fraud_oracle.csv\")\n",
    "#load the data in to data frame\n",
    "mydata = data.frame(mydata)"
   ]
  },
  {
   "cell_type": "code",
   "execution_count": 3,
   "id": "407a5056",
   "metadata": {},
   "outputs": [],
   "source": [
    "mydata$FraudFound_P=as.factor(mydata$FraudFound_P)"
   ]
  },
  {
   "cell_type": "code",
   "execution_count": 4,
   "id": "4af59ab8",
   "metadata": {},
   "outputs": [
    {
     "data": {
      "text/plain": [
       "    Month            WeekOfMonth     DayOfWeek             Make          \n",
       " Length:15420       Min.   :1.000   Length:15420       Length:15420      \n",
       " Class :character   1st Qu.:2.000   Class :character   Class :character  \n",
       " Mode  :character   Median :3.000   Mode  :character   Mode  :character  \n",
       "                    Mean   :2.789                                        \n",
       "                    3rd Qu.:4.000                                        \n",
       "                    Max.   :5.000                                        \n",
       " AccidentArea       DayOfWeekClaimed   MonthClaimed       WeekOfMonthClaimed\n",
       " Length:15420       Length:15420       Length:15420       Min.   :1.000     \n",
       " Class :character   Class :character   Class :character   1st Qu.:2.000     \n",
       " Mode  :character   Mode  :character   Mode  :character   Median :3.000     \n",
       "                                                          Mean   :2.694     \n",
       "                                                          3rd Qu.:4.000     \n",
       "                                                          Max.   :5.000     \n",
       "     Sex            MaritalStatus           Age           Fault          \n",
       " Length:15420       Length:15420       Min.   : 0.00   Length:15420      \n",
       " Class :character   Class :character   1st Qu.:31.00   Class :character  \n",
       " Mode  :character   Mode  :character   Median :38.00   Mode  :character  \n",
       "                                       Mean   :39.86                     \n",
       "                                       3rd Qu.:48.00                     \n",
       "                                       Max.   :80.00                     \n",
       "  PolicyType        VehicleCategory    VehiclePrice       FraudFound_P\n",
       " Length:15420       Length:15420       Length:15420       0:14497     \n",
       " Class :character   Class :character   Class :character   1:  923     \n",
       " Mode  :character   Mode  :character   Mode  :character               \n",
       "                                                                      \n",
       "                                                                      \n",
       "                                                                      \n",
       "  PolicyNumber     RepNumber        Deductible     DriverRating  \n",
       " Min.   :    1   Min.   : 1.000   Min.   :300.0   Min.   :1.000  \n",
       " 1st Qu.: 3856   1st Qu.: 5.000   1st Qu.:400.0   1st Qu.:1.000  \n",
       " Median : 7710   Median : 8.000   Median :400.0   Median :2.000  \n",
       " Mean   : 7710   Mean   : 8.483   Mean   :407.7   Mean   :2.488  \n",
       " 3rd Qu.:11565   3rd Qu.:12.000   3rd Qu.:400.0   3rd Qu.:3.000  \n",
       " Max.   :15420   Max.   :16.000   Max.   :700.0   Max.   :4.000  \n",
       " Days_Policy_Accident Days_Policy_Claim  PastNumberOfClaims AgeOfVehicle      \n",
       " Length:15420         Length:15420       Length:15420       Length:15420      \n",
       " Class :character     Class :character   Class :character   Class :character  \n",
       " Mode  :character     Mode  :character   Mode  :character   Mode  :character  \n",
       "                                                                              \n",
       "                                                                              \n",
       "                                                                              \n",
       " AgeOfPolicyHolder  PoliceReportFiled  WitnessPresent      AgentType        \n",
       " Length:15420       Length:15420       Length:15420       Length:15420      \n",
       " Class :character   Class :character   Class :character   Class :character  \n",
       " Mode  :character   Mode  :character   Mode  :character   Mode  :character  \n",
       "                                                                            \n",
       "                                                                            \n",
       "                                                                            \n",
       " NumberOfSuppliments AddressChange_Claim NumberOfCars            Year     \n",
       " Length:15420        Length:15420        Length:15420       Min.   :1994  \n",
       " Class :character    Class :character    Class :character   1st Qu.:1994  \n",
       " Mode  :character    Mode  :character    Mode  :character   Median :1995  \n",
       "                                                            Mean   :1995  \n",
       "                                                            3rd Qu.:1996  \n",
       "                                                            Max.   :1996  \n",
       "  BasePolicy       \n",
       " Length:15420      \n",
       " Class :character  \n",
       " Mode  :character  \n",
       "                   \n",
       "                   \n",
       "                   "
      ]
     },
     "metadata": {},
     "output_type": "display_data"
    }
   ],
   "source": [
    "summary(mydata)"
   ]
  },
  {
   "cell_type": "code",
   "execution_count": 5,
   "id": "791963e7",
   "metadata": {},
   "outputs": [],
   "source": [
    "#mydata[mydata == \"?\"] <- NA\n",
    "idx <- mydata == \" ?\"\n",
    "# replace elements with NA\n",
    "is.na(mydata) <- idx"
   ]
  },
  {
   "cell_type": "code",
   "execution_count": 6,
   "id": "38dc54c8",
   "metadata": {},
   "outputs": [
    {
     "data": {
      "text/html": [
       "<table class=\"dataframe\">\n",
       "<caption>A data.frame: 33 × 1</caption>\n",
       "<thead>\n",
       "\t<tr><th></th><th scope=col>no_of_null_values</th></tr>\n",
       "\t<tr><th></th><th scope=col>&lt;dbl&gt;</th></tr>\n",
       "</thead>\n",
       "<tbody>\n",
       "\t<tr><th scope=row>Month</th><td>0</td></tr>\n",
       "\t<tr><th scope=row>WeekOfMonth</th><td>0</td></tr>\n",
       "\t<tr><th scope=row>DayOfWeek</th><td>0</td></tr>\n",
       "\t<tr><th scope=row>Make</th><td>0</td></tr>\n",
       "\t<tr><th scope=row>AccidentArea</th><td>0</td></tr>\n",
       "\t<tr><th scope=row>DayOfWeekClaimed</th><td>0</td></tr>\n",
       "\t<tr><th scope=row>MonthClaimed</th><td>0</td></tr>\n",
       "\t<tr><th scope=row>WeekOfMonthClaimed</th><td>0</td></tr>\n",
       "\t<tr><th scope=row>Sex</th><td>0</td></tr>\n",
       "\t<tr><th scope=row>MaritalStatus</th><td>0</td></tr>\n",
       "\t<tr><th scope=row>Age</th><td>0</td></tr>\n",
       "\t<tr><th scope=row>Fault</th><td>0</td></tr>\n",
       "\t<tr><th scope=row>PolicyType</th><td>0</td></tr>\n",
       "\t<tr><th scope=row>VehicleCategory</th><td>0</td></tr>\n",
       "\t<tr><th scope=row>VehiclePrice</th><td>0</td></tr>\n",
       "\t<tr><th scope=row>FraudFound_P</th><td>0</td></tr>\n",
       "\t<tr><th scope=row>PolicyNumber</th><td>0</td></tr>\n",
       "\t<tr><th scope=row>RepNumber</th><td>0</td></tr>\n",
       "\t<tr><th scope=row>Deductible</th><td>0</td></tr>\n",
       "\t<tr><th scope=row>DriverRating</th><td>0</td></tr>\n",
       "\t<tr><th scope=row>Days_Policy_Accident</th><td>0</td></tr>\n",
       "\t<tr><th scope=row>Days_Policy_Claim</th><td>0</td></tr>\n",
       "\t<tr><th scope=row>PastNumberOfClaims</th><td>0</td></tr>\n",
       "\t<tr><th scope=row>AgeOfVehicle</th><td>0</td></tr>\n",
       "\t<tr><th scope=row>AgeOfPolicyHolder</th><td>0</td></tr>\n",
       "\t<tr><th scope=row>PoliceReportFiled</th><td>0</td></tr>\n",
       "\t<tr><th scope=row>WitnessPresent</th><td>0</td></tr>\n",
       "\t<tr><th scope=row>AgentType</th><td>0</td></tr>\n",
       "\t<tr><th scope=row>NumberOfSuppliments</th><td>0</td></tr>\n",
       "\t<tr><th scope=row>AddressChange_Claim</th><td>0</td></tr>\n",
       "\t<tr><th scope=row>NumberOfCars</th><td>0</td></tr>\n",
       "\t<tr><th scope=row>Year</th><td>0</td></tr>\n",
       "\t<tr><th scope=row>BasePolicy</th><td>0</td></tr>\n",
       "</tbody>\n",
       "</table>\n"
      ],
      "text/latex": [
       "A data.frame: 33 × 1\n",
       "\\begin{tabular}{r|l}\n",
       "  & no\\_of\\_null\\_values\\\\\n",
       "  & <dbl>\\\\\n",
       "\\hline\n",
       "\tMonth & 0\\\\\n",
       "\tWeekOfMonth & 0\\\\\n",
       "\tDayOfWeek & 0\\\\\n",
       "\tMake & 0\\\\\n",
       "\tAccidentArea & 0\\\\\n",
       "\tDayOfWeekClaimed & 0\\\\\n",
       "\tMonthClaimed & 0\\\\\n",
       "\tWeekOfMonthClaimed & 0\\\\\n",
       "\tSex & 0\\\\\n",
       "\tMaritalStatus & 0\\\\\n",
       "\tAge & 0\\\\\n",
       "\tFault & 0\\\\\n",
       "\tPolicyType & 0\\\\\n",
       "\tVehicleCategory & 0\\\\\n",
       "\tVehiclePrice & 0\\\\\n",
       "\tFraudFound\\_P & 0\\\\\n",
       "\tPolicyNumber & 0\\\\\n",
       "\tRepNumber & 0\\\\\n",
       "\tDeductible & 0\\\\\n",
       "\tDriverRating & 0\\\\\n",
       "\tDays\\_Policy\\_Accident & 0\\\\\n",
       "\tDays\\_Policy\\_Claim & 0\\\\\n",
       "\tPastNumberOfClaims & 0\\\\\n",
       "\tAgeOfVehicle & 0\\\\\n",
       "\tAgeOfPolicyHolder & 0\\\\\n",
       "\tPoliceReportFiled & 0\\\\\n",
       "\tWitnessPresent & 0\\\\\n",
       "\tAgentType & 0\\\\\n",
       "\tNumberOfSuppliments & 0\\\\\n",
       "\tAddressChange\\_Claim & 0\\\\\n",
       "\tNumberOfCars & 0\\\\\n",
       "\tYear & 0\\\\\n",
       "\tBasePolicy & 0\\\\\n",
       "\\end{tabular}\n"
      ],
      "text/markdown": [
       "\n",
       "A data.frame: 33 × 1\n",
       "\n",
       "| <!--/--> | no_of_null_values &lt;dbl&gt; |\n",
       "|---|---|\n",
       "| Month | 0 |\n",
       "| WeekOfMonth | 0 |\n",
       "| DayOfWeek | 0 |\n",
       "| Make | 0 |\n",
       "| AccidentArea | 0 |\n",
       "| DayOfWeekClaimed | 0 |\n",
       "| MonthClaimed | 0 |\n",
       "| WeekOfMonthClaimed | 0 |\n",
       "| Sex | 0 |\n",
       "| MaritalStatus | 0 |\n",
       "| Age | 0 |\n",
       "| Fault | 0 |\n",
       "| PolicyType | 0 |\n",
       "| VehicleCategory | 0 |\n",
       "| VehiclePrice | 0 |\n",
       "| FraudFound_P | 0 |\n",
       "| PolicyNumber | 0 |\n",
       "| RepNumber | 0 |\n",
       "| Deductible | 0 |\n",
       "| DriverRating | 0 |\n",
       "| Days_Policy_Accident | 0 |\n",
       "| Days_Policy_Claim | 0 |\n",
       "| PastNumberOfClaims | 0 |\n",
       "| AgeOfVehicle | 0 |\n",
       "| AgeOfPolicyHolder | 0 |\n",
       "| PoliceReportFiled | 0 |\n",
       "| WitnessPresent | 0 |\n",
       "| AgentType | 0 |\n",
       "| NumberOfSuppliments | 0 |\n",
       "| AddressChange_Claim | 0 |\n",
       "| NumberOfCars | 0 |\n",
       "| Year | 0 |\n",
       "| BasePolicy | 0 |\n",
       "\n"
      ],
      "text/plain": [
       "                     no_of_null_values\n",
       "Month                0                \n",
       "WeekOfMonth          0                \n",
       "DayOfWeek            0                \n",
       "Make                 0                \n",
       "AccidentArea         0                \n",
       "DayOfWeekClaimed     0                \n",
       "MonthClaimed         0                \n",
       "WeekOfMonthClaimed   0                \n",
       "Sex                  0                \n",
       "MaritalStatus        0                \n",
       "Age                  0                \n",
       "Fault                0                \n",
       "PolicyType           0                \n",
       "VehicleCategory      0                \n",
       "VehiclePrice         0                \n",
       "FraudFound_P         0                \n",
       "PolicyNumber         0                \n",
       "RepNumber            0                \n",
       "Deductible           0                \n",
       "DriverRating         0                \n",
       "Days_Policy_Accident 0                \n",
       "Days_Policy_Claim    0                \n",
       "PastNumberOfClaims   0                \n",
       "AgeOfVehicle         0                \n",
       "AgeOfPolicyHolder    0                \n",
       "PoliceReportFiled    0                \n",
       "WitnessPresent       0                \n",
       "AgentType            0                \n",
       "NumberOfSuppliments  0                \n",
       "AddressChange_Claim  0                \n",
       "NumberOfCars         0                \n",
       "Year                 0                \n",
       "BasePolicy           0                "
      ]
     },
     "metadata": {},
     "output_type": "display_data"
    }
   ],
   "source": [
    "#checking for missing values in the data\n",
    "null_values=data.frame(no_of_null_values=colSums(is.na(mydata)))\n",
    "head(null_values,33)"
   ]
  },
  {
   "cell_type": "code",
   "execution_count": 7,
   "id": "a80f6cae",
   "metadata": {},
   "outputs": [
    {
     "data": {
      "text/html": [
       "0"
      ],
      "text/latex": [
       "0"
      ],
      "text/markdown": [
       "0"
      ],
      "text/plain": [
       "[1] 0"
      ]
     },
     "metadata": {},
     "output_type": "display_data"
    }
   ],
   "source": [
    "#checking for duplicate values\n",
    "sum(duplicated(mydata))"
   ]
  },
  {
   "cell_type": "code",
   "execution_count": 8,
   "id": "950e44e5",
   "metadata": {},
   "outputs": [
    {
     "name": "stderr",
     "output_type": "stream",
     "text": [
      "Installing package into 'C:/Users/anwes/AppData/Local/R/win-library/4.2'\n",
      "(as 'lib' is unspecified)\n",
      "\n"
     ]
    },
    {
     "name": "stdout",
     "output_type": "stream",
     "text": [
      "package 'skimr' successfully unpacked and MD5 sums checked\n",
      "\n",
      "The downloaded binary packages are in\n",
      "\tC:\\Users\\anwes\\AppData\\Local\\Temp\\RtmpgR9xvg\\downloaded_packages\n"
     ]
    }
   ],
   "source": [
    "install.packages(\"skimr\")\n",
    "library(skimr)"
   ]
  },
  {
   "cell_type": "code",
   "execution_count": 9,
   "id": "9340bb8a",
   "metadata": {},
   "outputs": [
    {
     "name": "stdout",
     "output_type": "stream",
     "text": [
      "── Data Summary ────────────────────────\n",
      "                           Values\n",
      "Name                       mydata\n",
      "Number of rows             15420 \n",
      "Number of columns          33    \n",
      "_______________________          \n",
      "Column type frequency:           \n",
      "  character                24    \n",
      "  factor                   1     \n",
      "  numeric                  8     \n",
      "________________________         \n",
      "Group variables            None  \n",
      "\n",
      "── Variable type: character ────────────────────────────────────────────────────\n",
      "   skim_variable        n_missing complete_rate min max empty n_unique\n",
      "\u001b[90m 1\u001b[39m Month                        0             1   3   3     0       12\n",
      "\u001b[90m 2\u001b[39m DayOfWeek                    0             1   6   9     0        7\n",
      "\u001b[90m 3\u001b[39m Make                         0             1   2   9     0       19\n",
      "\u001b[90m 4\u001b[39m AccidentArea                 0             1   5   5     0        2\n",
      "\u001b[90m 5\u001b[39m DayOfWeekClaimed             0             1   1   9     0        8\n",
      "\u001b[90m 6\u001b[39m MonthClaimed                 0             1   1   3     0       13\n",
      "\u001b[90m 7\u001b[39m Sex                          0             1   4   6     0        2\n",
      "\u001b[90m 8\u001b[39m MaritalStatus                0             1   5   8     0        4\n",
      "\u001b[90m 9\u001b[39m Fault                        0             1  11  13     0        2\n",
      "\u001b[90m10\u001b[39m PolicyType                   0             1  17  20     0        9\n",
      "\u001b[90m11\u001b[39m VehicleCategory              0             1   5   7     0        3\n",
      "\u001b[90m12\u001b[39m VehiclePrice                 0             1  14  15     0        6\n",
      "\u001b[90m13\u001b[39m Days_Policy_Accident         0             1   4  12     0        5\n",
      "\u001b[90m14\u001b[39m Days_Policy_Claim            0             1   4  12     0        4\n",
      "\u001b[90m15\u001b[39m PastNumberOfClaims           0             1   1  11     0        4\n",
      "\u001b[90m16\u001b[39m AgeOfVehicle                 0             1   3  11     0        8\n",
      "\u001b[90m17\u001b[39m AgeOfPolicyHolder            0             1   7   8     0        9\n",
      "\u001b[90m18\u001b[39m PoliceReportFiled            0             1   2   3     0        2\n",
      "\u001b[90m19\u001b[39m WitnessPresent               0             1   2   3     0        2\n",
      "\u001b[90m20\u001b[39m AgentType                    0             1   8   8     0        2\n",
      "\u001b[90m21\u001b[39m NumberOfSuppliments          0             1   4  11     0        4\n",
      "\u001b[90m22\u001b[39m AddressChange_Claim          0             1   6  14     0        5\n",
      "\u001b[90m23\u001b[39m NumberOfCars                 0             1   6  11     0        5\n",
      "\u001b[90m24\u001b[39m BasePolicy                   0             1   9  10     0        3\n",
      "   whitespace\n",
      "\u001b[90m 1\u001b[39m          0\n",
      "\u001b[90m 2\u001b[39m          0\n",
      "\u001b[90m 3\u001b[39m          0\n",
      "\u001b[90m 4\u001b[39m          0\n",
      "\u001b[90m 5\u001b[39m          0\n",
      "\u001b[90m 6\u001b[39m          0\n",
      "\u001b[90m 7\u001b[39m          0\n",
      "\u001b[90m 8\u001b[39m          0\n",
      "\u001b[90m 9\u001b[39m          0\n",
      "\u001b[90m10\u001b[39m          0\n",
      "\u001b[90m11\u001b[39m          0\n",
      "\u001b[90m12\u001b[39m          0\n",
      "\u001b[90m13\u001b[39m          0\n",
      "\u001b[90m14\u001b[39m          0\n",
      "\u001b[90m15\u001b[39m          0\n",
      "\u001b[90m16\u001b[39m          0\n",
      "\u001b[90m17\u001b[39m          0\n",
      "\u001b[90m18\u001b[39m          0\n",
      "\u001b[90m19\u001b[39m          0\n",
      "\u001b[90m20\u001b[39m          0\n",
      "\u001b[90m21\u001b[39m          0\n",
      "\u001b[90m22\u001b[39m          0\n",
      "\u001b[90m23\u001b[39m          0\n",
      "\u001b[90m24\u001b[39m          0\n",
      "\n",
      "── Variable type: factor ───────────────────────────────────────────────────────\n",
      "  skim_variable n_missing complete_rate ordered n_unique top_counts      \n",
      "\u001b[90m1\u001b[39m FraudFound_P          0             1 FALSE          2 0: 14497, 1: 923\n",
      "\n",
      "── Variable type: numeric ──────────────────────────────────────────────────────\n",
      "  skim_variable      n_missing complete_rate    mean       sd   p0   p25   p50\n",
      "\u001b[90m1\u001b[39m WeekOfMonth                0             1    2.79    1.29     1    2     3 \n",
      "\u001b[90m2\u001b[39m WeekOfMonthClaimed         0             1    2.69    1.26     1    2     3 \n",
      "\u001b[90m3\u001b[39m Age                        0             1   39.9    13.5      0   31    38 \n",
      "\u001b[90m4\u001b[39m PolicyNumber               0             1 \u001b[4m7\u001b[24m710.   \u001b[4m4\u001b[24m452.       1 \u001b[4m3\u001b[24m856. \u001b[4m7\u001b[24m710.\n",
      "\u001b[90m5\u001b[39m RepNumber                  0             1    8.48    4.60     1    5     8 \n",
      "\u001b[90m6\u001b[39m Deductible                 0             1  408.     44.0    300  400   400 \n",
      "\u001b[90m7\u001b[39m DriverRating               0             1    2.49    1.12     1    1     2 \n",
      "\u001b[90m8\u001b[39m Year                       0             1 \u001b[4m1\u001b[24m995.      0.803 \u001b[4m1\u001b[24m994 \u001b[4m1\u001b[24m994  \u001b[4m1\u001b[24m995 \n",
      "     p75  p100 hist \n",
      "\u001b[90m1\u001b[39m     4      5 ▇▇▇▇▃\n",
      "\u001b[90m2\u001b[39m     4      5 ▇▇▇▇▂\n",
      "\u001b[90m3\u001b[39m    48     80 ▁▆▇▃▁\n",
      "\u001b[90m4\u001b[39m \u001b[4m1\u001b[24m\u001b[4m1\u001b[24m565. \u001b[4m1\u001b[24m\u001b[4m5\u001b[24m420 ▇▇▇▇▇\n",
      "\u001b[90m5\u001b[39m    12     16 ▇▆▆▆▆\n",
      "\u001b[90m6\u001b[39m   400    700 ▁▇▁▁▁\n",
      "\u001b[90m7\u001b[39m     3      4 ▇▇▁▇▇\n",
      "\u001b[90m8\u001b[39m  \u001b[4m1\u001b[24m996   \u001b[4m1\u001b[24m996 ▇▁▇▁▅\n"
     ]
    },
    {
     "name": "stderr",
     "output_type": "stream",
     "text": [
      "Warning message in is.null(text_repr) || nchar(text_repr) == 0L:\n",
      "\"'length(x) = 3 > 1' in coercion to 'logical(1)'\"\n"
     ]
    },
    {
     "data": {
      "text/html": [
       "<table class=\"dataframe\">\n",
       "<caption>A skim_df: 33 × 20</caption>\n",
       "<thead>\n",
       "\t<tr><th></th><th scope=col>skim_type</th><th scope=col>skim_variable</th><th scope=col>n_missing</th><th scope=col>complete_rate</th><th scope=col>character.min</th><th scope=col>character.max</th><th scope=col>character.empty</th><th scope=col>character.n_unique</th><th scope=col>character.whitespace</th><th scope=col>factor.ordered</th><th scope=col>factor.n_unique</th><th scope=col>factor.top_counts</th><th scope=col>numeric.mean</th><th scope=col>numeric.sd</th><th scope=col>numeric.p0</th><th scope=col>numeric.p25</th><th scope=col>numeric.p50</th><th scope=col>numeric.p75</th><th scope=col>numeric.p100</th><th scope=col>numeric.hist</th></tr>\n",
       "\t<tr><th></th><th scope=col>&lt;chr&gt;</th><th scope=col>&lt;chr&gt;</th><th scope=col>&lt;int&gt;</th><th scope=col>&lt;dbl&gt;</th><th scope=col>&lt;int&gt;</th><th scope=col>&lt;int&gt;</th><th scope=col>&lt;int&gt;</th><th scope=col>&lt;int&gt;</th><th scope=col>&lt;int&gt;</th><th scope=col>&lt;lgl&gt;</th><th scope=col>&lt;int&gt;</th><th scope=col>&lt;chr&gt;</th><th scope=col>&lt;dbl&gt;</th><th scope=col>&lt;dbl&gt;</th><th scope=col>&lt;dbl&gt;</th><th scope=col>&lt;dbl&gt;</th><th scope=col>&lt;dbl&gt;</th><th scope=col>&lt;dbl&gt;</th><th scope=col>&lt;dbl&gt;</th><th scope=col>&lt;chr&gt;</th></tr>\n",
       "</thead>\n",
       "<tbody>\n",
       "\t<tr><th scope=row>1</th><td>character</td><td>Month               </td><td>0</td><td>1</td><td> 3</td><td> 3</td><td> 0</td><td>12</td><td> 0</td><td>   NA</td><td>NA</td><td>NA              </td><td>         NA</td><td>          NA</td><td>  NA</td><td>     NA</td><td>    NA</td><td>      NA</td><td>   NA</td><td>NA   </td></tr>\n",
       "\t<tr><th scope=row>2</th><td>character</td><td>DayOfWeek           </td><td>0</td><td>1</td><td> 6</td><td> 9</td><td> 0</td><td> 7</td><td> 0</td><td>   NA</td><td>NA</td><td>NA              </td><td>         NA</td><td>          NA</td><td>  NA</td><td>     NA</td><td>    NA</td><td>      NA</td><td>   NA</td><td>NA   </td></tr>\n",
       "\t<tr><th scope=row>3</th><td>character</td><td>Make                </td><td>0</td><td>1</td><td> 2</td><td> 9</td><td> 0</td><td>19</td><td> 0</td><td>   NA</td><td>NA</td><td>NA              </td><td>         NA</td><td>          NA</td><td>  NA</td><td>     NA</td><td>    NA</td><td>      NA</td><td>   NA</td><td>NA   </td></tr>\n",
       "\t<tr><th scope=row>4</th><td>character</td><td>AccidentArea        </td><td>0</td><td>1</td><td> 5</td><td> 5</td><td> 0</td><td> 2</td><td> 0</td><td>   NA</td><td>NA</td><td>NA              </td><td>         NA</td><td>          NA</td><td>  NA</td><td>     NA</td><td>    NA</td><td>      NA</td><td>   NA</td><td>NA   </td></tr>\n",
       "\t<tr><th scope=row>5</th><td>character</td><td>DayOfWeekClaimed    </td><td>0</td><td>1</td><td> 1</td><td> 9</td><td> 0</td><td> 8</td><td> 0</td><td>   NA</td><td>NA</td><td>NA              </td><td>         NA</td><td>          NA</td><td>  NA</td><td>     NA</td><td>    NA</td><td>      NA</td><td>   NA</td><td>NA   </td></tr>\n",
       "\t<tr><th scope=row>6</th><td>character</td><td>MonthClaimed        </td><td>0</td><td>1</td><td> 1</td><td> 3</td><td> 0</td><td>13</td><td> 0</td><td>   NA</td><td>NA</td><td>NA              </td><td>         NA</td><td>          NA</td><td>  NA</td><td>     NA</td><td>    NA</td><td>      NA</td><td>   NA</td><td>NA   </td></tr>\n",
       "\t<tr><th scope=row>7</th><td>character</td><td>Sex                 </td><td>0</td><td>1</td><td> 4</td><td> 6</td><td> 0</td><td> 2</td><td> 0</td><td>   NA</td><td>NA</td><td>NA              </td><td>         NA</td><td>          NA</td><td>  NA</td><td>     NA</td><td>    NA</td><td>      NA</td><td>   NA</td><td>NA   </td></tr>\n",
       "\t<tr><th scope=row>8</th><td>character</td><td>MaritalStatus       </td><td>0</td><td>1</td><td> 5</td><td> 8</td><td> 0</td><td> 4</td><td> 0</td><td>   NA</td><td>NA</td><td>NA              </td><td>         NA</td><td>          NA</td><td>  NA</td><td>     NA</td><td>    NA</td><td>      NA</td><td>   NA</td><td>NA   </td></tr>\n",
       "\t<tr><th scope=row>9</th><td>character</td><td>Fault               </td><td>0</td><td>1</td><td>11</td><td>13</td><td> 0</td><td> 2</td><td> 0</td><td>   NA</td><td>NA</td><td>NA              </td><td>         NA</td><td>          NA</td><td>  NA</td><td>     NA</td><td>    NA</td><td>      NA</td><td>   NA</td><td>NA   </td></tr>\n",
       "\t<tr><th scope=row>10</th><td>character</td><td>PolicyType          </td><td>0</td><td>1</td><td>17</td><td>20</td><td> 0</td><td> 9</td><td> 0</td><td>   NA</td><td>NA</td><td>NA              </td><td>         NA</td><td>          NA</td><td>  NA</td><td>     NA</td><td>    NA</td><td>      NA</td><td>   NA</td><td>NA   </td></tr>\n",
       "\t<tr><th scope=row>11</th><td>character</td><td>VehicleCategory     </td><td>0</td><td>1</td><td> 5</td><td> 7</td><td> 0</td><td> 3</td><td> 0</td><td>   NA</td><td>NA</td><td>NA              </td><td>         NA</td><td>          NA</td><td>  NA</td><td>     NA</td><td>    NA</td><td>      NA</td><td>   NA</td><td>NA   </td></tr>\n",
       "\t<tr><th scope=row>12</th><td>character</td><td>VehiclePrice        </td><td>0</td><td>1</td><td>14</td><td>15</td><td> 0</td><td> 6</td><td> 0</td><td>   NA</td><td>NA</td><td>NA              </td><td>         NA</td><td>          NA</td><td>  NA</td><td>     NA</td><td>    NA</td><td>      NA</td><td>   NA</td><td>NA   </td></tr>\n",
       "\t<tr><th scope=row>13</th><td>character</td><td>Days_Policy_Accident</td><td>0</td><td>1</td><td> 4</td><td>12</td><td> 0</td><td> 5</td><td> 0</td><td>   NA</td><td>NA</td><td>NA              </td><td>         NA</td><td>          NA</td><td>  NA</td><td>     NA</td><td>    NA</td><td>      NA</td><td>   NA</td><td>NA   </td></tr>\n",
       "\t<tr><th scope=row>14</th><td>character</td><td>Days_Policy_Claim   </td><td>0</td><td>1</td><td> 4</td><td>12</td><td> 0</td><td> 4</td><td> 0</td><td>   NA</td><td>NA</td><td>NA              </td><td>         NA</td><td>          NA</td><td>  NA</td><td>     NA</td><td>    NA</td><td>      NA</td><td>   NA</td><td>NA   </td></tr>\n",
       "\t<tr><th scope=row>15</th><td>character</td><td>PastNumberOfClaims  </td><td>0</td><td>1</td><td> 1</td><td>11</td><td> 0</td><td> 4</td><td> 0</td><td>   NA</td><td>NA</td><td>NA              </td><td>         NA</td><td>          NA</td><td>  NA</td><td>     NA</td><td>    NA</td><td>      NA</td><td>   NA</td><td>NA   </td></tr>\n",
       "\t<tr><th scope=row>16</th><td>character</td><td>AgeOfVehicle        </td><td>0</td><td>1</td><td> 3</td><td>11</td><td> 0</td><td> 8</td><td> 0</td><td>   NA</td><td>NA</td><td>NA              </td><td>         NA</td><td>          NA</td><td>  NA</td><td>     NA</td><td>    NA</td><td>      NA</td><td>   NA</td><td>NA   </td></tr>\n",
       "\t<tr><th scope=row>17</th><td>character</td><td>AgeOfPolicyHolder   </td><td>0</td><td>1</td><td> 7</td><td> 8</td><td> 0</td><td> 9</td><td> 0</td><td>   NA</td><td>NA</td><td>NA              </td><td>         NA</td><td>          NA</td><td>  NA</td><td>     NA</td><td>    NA</td><td>      NA</td><td>   NA</td><td>NA   </td></tr>\n",
       "\t<tr><th scope=row>18</th><td>character</td><td>PoliceReportFiled   </td><td>0</td><td>1</td><td> 2</td><td> 3</td><td> 0</td><td> 2</td><td> 0</td><td>   NA</td><td>NA</td><td>NA              </td><td>         NA</td><td>          NA</td><td>  NA</td><td>     NA</td><td>    NA</td><td>      NA</td><td>   NA</td><td>NA   </td></tr>\n",
       "\t<tr><th scope=row>19</th><td>character</td><td>WitnessPresent      </td><td>0</td><td>1</td><td> 2</td><td> 3</td><td> 0</td><td> 2</td><td> 0</td><td>   NA</td><td>NA</td><td>NA              </td><td>         NA</td><td>          NA</td><td>  NA</td><td>     NA</td><td>    NA</td><td>      NA</td><td>   NA</td><td>NA   </td></tr>\n",
       "\t<tr><th scope=row>20</th><td>character</td><td>AgentType           </td><td>0</td><td>1</td><td> 8</td><td> 8</td><td> 0</td><td> 2</td><td> 0</td><td>   NA</td><td>NA</td><td>NA              </td><td>         NA</td><td>          NA</td><td>  NA</td><td>     NA</td><td>    NA</td><td>      NA</td><td>   NA</td><td>NA   </td></tr>\n",
       "\t<tr><th scope=row>21</th><td>character</td><td>NumberOfSuppliments </td><td>0</td><td>1</td><td> 4</td><td>11</td><td> 0</td><td> 4</td><td> 0</td><td>   NA</td><td>NA</td><td>NA              </td><td>         NA</td><td>          NA</td><td>  NA</td><td>     NA</td><td>    NA</td><td>      NA</td><td>   NA</td><td>NA   </td></tr>\n",
       "\t<tr><th scope=row>22</th><td>character</td><td>AddressChange_Claim </td><td>0</td><td>1</td><td> 6</td><td>14</td><td> 0</td><td> 5</td><td> 0</td><td>   NA</td><td>NA</td><td>NA              </td><td>         NA</td><td>          NA</td><td>  NA</td><td>     NA</td><td>    NA</td><td>      NA</td><td>   NA</td><td>NA   </td></tr>\n",
       "\t<tr><th scope=row>23</th><td>character</td><td>NumberOfCars        </td><td>0</td><td>1</td><td> 6</td><td>11</td><td> 0</td><td> 5</td><td> 0</td><td>   NA</td><td>NA</td><td>NA              </td><td>         NA</td><td>          NA</td><td>  NA</td><td>     NA</td><td>    NA</td><td>      NA</td><td>   NA</td><td>NA   </td></tr>\n",
       "\t<tr><th scope=row>24</th><td>character</td><td>BasePolicy          </td><td>0</td><td>1</td><td> 9</td><td>10</td><td> 0</td><td> 3</td><td> 0</td><td>   NA</td><td>NA</td><td>NA              </td><td>         NA</td><td>          NA</td><td>  NA</td><td>     NA</td><td>    NA</td><td>      NA</td><td>   NA</td><td>NA   </td></tr>\n",
       "\t<tr><th scope=row>25</th><td>factor   </td><td>FraudFound_P        </td><td>0</td><td>1</td><td>NA</td><td>NA</td><td>NA</td><td>NA</td><td>NA</td><td>FALSE</td><td> 2</td><td>0: 14497, 1: 923</td><td>         NA</td><td>          NA</td><td>  NA</td><td>     NA</td><td>    NA</td><td>      NA</td><td>   NA</td><td>NA   </td></tr>\n",
       "\t<tr><th scope=row>26</th><td>numeric  </td><td>WeekOfMonth         </td><td>0</td><td>1</td><td>NA</td><td>NA</td><td>NA</td><td>NA</td><td>NA</td><td>   NA</td><td>NA</td><td>NA              </td><td>   2.788586</td><td>   1.2875854</td><td>   1</td><td>   2.00</td><td>   3.0</td><td>    4.00</td><td>    5</td><td>▇▇▇▇▃</td></tr>\n",
       "\t<tr><th scope=row>27</th><td>numeric  </td><td>WeekOfMonthClaimed  </td><td>0</td><td>1</td><td>NA</td><td>NA</td><td>NA</td><td>NA</td><td>NA</td><td>   NA</td><td>NA</td><td>NA              </td><td>   2.693969</td><td>   1.2591153</td><td>   1</td><td>   2.00</td><td>   3.0</td><td>    4.00</td><td>    5</td><td>▇▇▇▇▂</td></tr>\n",
       "\t<tr><th scope=row>28</th><td>numeric  </td><td>Age                 </td><td>0</td><td>1</td><td>NA</td><td>NA</td><td>NA</td><td>NA</td><td>NA</td><td>   NA</td><td>NA</td><td>NA              </td><td>  39.855707</td><td>  13.4923767</td><td>   0</td><td>  31.00</td><td>  38.0</td><td>   48.00</td><td>   80</td><td>▁▆▇▃▁</td></tr>\n",
       "\t<tr><th scope=row>29</th><td>numeric  </td><td>PolicyNumber        </td><td>0</td><td>1</td><td>NA</td><td>NA</td><td>NA</td><td>NA</td><td>NA</td><td>   NA</td><td>NA</td><td>NA              </td><td>7710.500000</td><td>4451.5149107</td><td>   1</td><td>3855.75</td><td>7710.5</td><td>11565.25</td><td>15420</td><td>▇▇▇▇▇</td></tr>\n",
       "\t<tr><th scope=row>30</th><td>numeric  </td><td>RepNumber           </td><td>0</td><td>1</td><td>NA</td><td>NA</td><td>NA</td><td>NA</td><td>NA</td><td>   NA</td><td>NA</td><td>NA              </td><td>   8.483268</td><td>   4.5999481</td><td>   1</td><td>   5.00</td><td>   8.0</td><td>   12.00</td><td>   16</td><td>▇▆▆▆▆</td></tr>\n",
       "\t<tr><th scope=row>31</th><td>numeric  </td><td>Deductible          </td><td>0</td><td>1</td><td>NA</td><td>NA</td><td>NA</td><td>NA</td><td>NA</td><td>   NA</td><td>NA</td><td>NA              </td><td> 407.704280</td><td>  43.9509980</td><td> 300</td><td> 400.00</td><td> 400.0</td><td>  400.00</td><td>  700</td><td>▁▇▁▁▁</td></tr>\n",
       "\t<tr><th scope=row>32</th><td>numeric  </td><td>DriverRating        </td><td>0</td><td>1</td><td>NA</td><td>NA</td><td>NA</td><td>NA</td><td>NA</td><td>   NA</td><td>NA</td><td>NA              </td><td>   2.487808</td><td>   1.1194531</td><td>   1</td><td>   1.00</td><td>   2.0</td><td>    3.00</td><td>    4</td><td>▇▇▁▇▇</td></tr>\n",
       "\t<tr><th scope=row>33</th><td>numeric  </td><td>Year                </td><td>0</td><td>1</td><td>NA</td><td>NA</td><td>NA</td><td>NA</td><td>NA</td><td>   NA</td><td>NA</td><td>NA              </td><td>1994.866472</td><td>   0.8033132</td><td>1994</td><td>1994.00</td><td>1995.0</td><td> 1996.00</td><td> 1996</td><td>▇▁▇▁▅</td></tr>\n",
       "</tbody>\n",
       "</table>\n"
      ],
      "text/latex": [
       "A skim\\_df: 33 × 20\n",
       "\\begin{tabular}{r|llllllllllllllllllll}\n",
       "  & skim\\_type & skim\\_variable & n\\_missing & complete\\_rate & character.min & character.max & character.empty & character.n\\_unique & character.whitespace & factor.ordered & factor.n\\_unique & factor.top\\_counts & numeric.mean & numeric.sd & numeric.p0 & numeric.p25 & numeric.p50 & numeric.p75 & numeric.p100 & numeric.hist\\\\\n",
       "  & <chr> & <chr> & <int> & <dbl> & <int> & <int> & <int> & <int> & <int> & <lgl> & <int> & <chr> & <dbl> & <dbl> & <dbl> & <dbl> & <dbl> & <dbl> & <dbl> & <chr>\\\\\n",
       "\\hline\n",
       "\t1 & character & Month                & 0 & 1 &  3 &  3 &  0 & 12 &  0 &    NA & NA & NA               &          NA &           NA &   NA &      NA &     NA &       NA &    NA & NA   \\\\\n",
       "\t2 & character & DayOfWeek            & 0 & 1 &  6 &  9 &  0 &  7 &  0 &    NA & NA & NA               &          NA &           NA &   NA &      NA &     NA &       NA &    NA & NA   \\\\\n",
       "\t3 & character & Make                 & 0 & 1 &  2 &  9 &  0 & 19 &  0 &    NA & NA & NA               &          NA &           NA &   NA &      NA &     NA &       NA &    NA & NA   \\\\\n",
       "\t4 & character & AccidentArea         & 0 & 1 &  5 &  5 &  0 &  2 &  0 &    NA & NA & NA               &          NA &           NA &   NA &      NA &     NA &       NA &    NA & NA   \\\\\n",
       "\t5 & character & DayOfWeekClaimed     & 0 & 1 &  1 &  9 &  0 &  8 &  0 &    NA & NA & NA               &          NA &           NA &   NA &      NA &     NA &       NA &    NA & NA   \\\\\n",
       "\t6 & character & MonthClaimed         & 0 & 1 &  1 &  3 &  0 & 13 &  0 &    NA & NA & NA               &          NA &           NA &   NA &      NA &     NA &       NA &    NA & NA   \\\\\n",
       "\t7 & character & Sex                  & 0 & 1 &  4 &  6 &  0 &  2 &  0 &    NA & NA & NA               &          NA &           NA &   NA &      NA &     NA &       NA &    NA & NA   \\\\\n",
       "\t8 & character & MaritalStatus        & 0 & 1 &  5 &  8 &  0 &  4 &  0 &    NA & NA & NA               &          NA &           NA &   NA &      NA &     NA &       NA &    NA & NA   \\\\\n",
       "\t9 & character & Fault                & 0 & 1 & 11 & 13 &  0 &  2 &  0 &    NA & NA & NA               &          NA &           NA &   NA &      NA &     NA &       NA &    NA & NA   \\\\\n",
       "\t10 & character & PolicyType           & 0 & 1 & 17 & 20 &  0 &  9 &  0 &    NA & NA & NA               &          NA &           NA &   NA &      NA &     NA &       NA &    NA & NA   \\\\\n",
       "\t11 & character & VehicleCategory      & 0 & 1 &  5 &  7 &  0 &  3 &  0 &    NA & NA & NA               &          NA &           NA &   NA &      NA &     NA &       NA &    NA & NA   \\\\\n",
       "\t12 & character & VehiclePrice         & 0 & 1 & 14 & 15 &  0 &  6 &  0 &    NA & NA & NA               &          NA &           NA &   NA &      NA &     NA &       NA &    NA & NA   \\\\\n",
       "\t13 & character & Days\\_Policy\\_Accident & 0 & 1 &  4 & 12 &  0 &  5 &  0 &    NA & NA & NA               &          NA &           NA &   NA &      NA &     NA &       NA &    NA & NA   \\\\\n",
       "\t14 & character & Days\\_Policy\\_Claim    & 0 & 1 &  4 & 12 &  0 &  4 &  0 &    NA & NA & NA               &          NA &           NA &   NA &      NA &     NA &       NA &    NA & NA   \\\\\n",
       "\t15 & character & PastNumberOfClaims   & 0 & 1 &  1 & 11 &  0 &  4 &  0 &    NA & NA & NA               &          NA &           NA &   NA &      NA &     NA &       NA &    NA & NA   \\\\\n",
       "\t16 & character & AgeOfVehicle         & 0 & 1 &  3 & 11 &  0 &  8 &  0 &    NA & NA & NA               &          NA &           NA &   NA &      NA &     NA &       NA &    NA & NA   \\\\\n",
       "\t17 & character & AgeOfPolicyHolder    & 0 & 1 &  7 &  8 &  0 &  9 &  0 &    NA & NA & NA               &          NA &           NA &   NA &      NA &     NA &       NA &    NA & NA   \\\\\n",
       "\t18 & character & PoliceReportFiled    & 0 & 1 &  2 &  3 &  0 &  2 &  0 &    NA & NA & NA               &          NA &           NA &   NA &      NA &     NA &       NA &    NA & NA   \\\\\n",
       "\t19 & character & WitnessPresent       & 0 & 1 &  2 &  3 &  0 &  2 &  0 &    NA & NA & NA               &          NA &           NA &   NA &      NA &     NA &       NA &    NA & NA   \\\\\n",
       "\t20 & character & AgentType            & 0 & 1 &  8 &  8 &  0 &  2 &  0 &    NA & NA & NA               &          NA &           NA &   NA &      NA &     NA &       NA &    NA & NA   \\\\\n",
       "\t21 & character & NumberOfSuppliments  & 0 & 1 &  4 & 11 &  0 &  4 &  0 &    NA & NA & NA               &          NA &           NA &   NA &      NA &     NA &       NA &    NA & NA   \\\\\n",
       "\t22 & character & AddressChange\\_Claim  & 0 & 1 &  6 & 14 &  0 &  5 &  0 &    NA & NA & NA               &          NA &           NA &   NA &      NA &     NA &       NA &    NA & NA   \\\\\n",
       "\t23 & character & NumberOfCars         & 0 & 1 &  6 & 11 &  0 &  5 &  0 &    NA & NA & NA               &          NA &           NA &   NA &      NA &     NA &       NA &    NA & NA   \\\\\n",
       "\t24 & character & BasePolicy           & 0 & 1 &  9 & 10 &  0 &  3 &  0 &    NA & NA & NA               &          NA &           NA &   NA &      NA &     NA &       NA &    NA & NA   \\\\\n",
       "\t25 & factor    & FraudFound\\_P         & 0 & 1 & NA & NA & NA & NA & NA & FALSE &  2 & 0: 14497, 1: 923 &          NA &           NA &   NA &      NA &     NA &       NA &    NA & NA   \\\\\n",
       "\t26 & numeric   & WeekOfMonth          & 0 & 1 & NA & NA & NA & NA & NA &    NA & NA & NA               &    2.788586 &    1.2875854 &    1 &    2.00 &    3.0 &     4.00 &     5 & ▇▇▇▇▃\\\\\n",
       "\t27 & numeric   & WeekOfMonthClaimed   & 0 & 1 & NA & NA & NA & NA & NA &    NA & NA & NA               &    2.693969 &    1.2591153 &    1 &    2.00 &    3.0 &     4.00 &     5 & ▇▇▇▇▂\\\\\n",
       "\t28 & numeric   & Age                  & 0 & 1 & NA & NA & NA & NA & NA &    NA & NA & NA               &   39.855707 &   13.4923767 &    0 &   31.00 &   38.0 &    48.00 &    80 & ▁▆▇▃▁\\\\\n",
       "\t29 & numeric   & PolicyNumber         & 0 & 1 & NA & NA & NA & NA & NA &    NA & NA & NA               & 7710.500000 & 4451.5149107 &    1 & 3855.75 & 7710.5 & 11565.25 & 15420 & ▇▇▇▇▇\\\\\n",
       "\t30 & numeric   & RepNumber            & 0 & 1 & NA & NA & NA & NA & NA &    NA & NA & NA               &    8.483268 &    4.5999481 &    1 &    5.00 &    8.0 &    12.00 &    16 & ▇▆▆▆▆\\\\\n",
       "\t31 & numeric   & Deductible           & 0 & 1 & NA & NA & NA & NA & NA &    NA & NA & NA               &  407.704280 &   43.9509980 &  300 &  400.00 &  400.0 &   400.00 &   700 & ▁▇▁▁▁\\\\\n",
       "\t32 & numeric   & DriverRating         & 0 & 1 & NA & NA & NA & NA & NA &    NA & NA & NA               &    2.487808 &    1.1194531 &    1 &    1.00 &    2.0 &     3.00 &     4 & ▇▇▁▇▇\\\\\n",
       "\t33 & numeric   & Year                 & 0 & 1 & NA & NA & NA & NA & NA &    NA & NA & NA               & 1994.866472 &    0.8033132 & 1994 & 1994.00 & 1995.0 &  1996.00 &  1996 & ▇▁▇▁▅\\\\\n",
       "\\end{tabular}\n"
      ],
      "text/markdown": [
       "\n",
       "A skim_df: 33 × 20\n",
       "\n",
       "| <!--/--> | skim_type &lt;chr&gt; | skim_variable &lt;chr&gt; | n_missing &lt;int&gt; | complete_rate &lt;dbl&gt; | character.min &lt;int&gt; | character.max &lt;int&gt; | character.empty &lt;int&gt; | character.n_unique &lt;int&gt; | character.whitespace &lt;int&gt; | factor.ordered &lt;lgl&gt; | factor.n_unique &lt;int&gt; | factor.top_counts &lt;chr&gt; | numeric.mean &lt;dbl&gt; | numeric.sd &lt;dbl&gt; | numeric.p0 &lt;dbl&gt; | numeric.p25 &lt;dbl&gt; | numeric.p50 &lt;dbl&gt; | numeric.p75 &lt;dbl&gt; | numeric.p100 &lt;dbl&gt; | numeric.hist &lt;chr&gt; |\n",
       "|---|---|---|---|---|---|---|---|---|---|---|---|---|---|---|---|---|---|---|---|---|\n",
       "| 1 | character | Month                | 0 | 1 |  3 |  3 |  0 | 12 |  0 |    NA | NA | NA               |          NA |           NA |   NA |      NA |     NA |       NA |    NA | NA    |\n",
       "| 2 | character | DayOfWeek            | 0 | 1 |  6 |  9 |  0 |  7 |  0 |    NA | NA | NA               |          NA |           NA |   NA |      NA |     NA |       NA |    NA | NA    |\n",
       "| 3 | character | Make                 | 0 | 1 |  2 |  9 |  0 | 19 |  0 |    NA | NA | NA               |          NA |           NA |   NA |      NA |     NA |       NA |    NA | NA    |\n",
       "| 4 | character | AccidentArea         | 0 | 1 |  5 |  5 |  0 |  2 |  0 |    NA | NA | NA               |          NA |           NA |   NA |      NA |     NA |       NA |    NA | NA    |\n",
       "| 5 | character | DayOfWeekClaimed     | 0 | 1 |  1 |  9 |  0 |  8 |  0 |    NA | NA | NA               |          NA |           NA |   NA |      NA |     NA |       NA |    NA | NA    |\n",
       "| 6 | character | MonthClaimed         | 0 | 1 |  1 |  3 |  0 | 13 |  0 |    NA | NA | NA               |          NA |           NA |   NA |      NA |     NA |       NA |    NA | NA    |\n",
       "| 7 | character | Sex                  | 0 | 1 |  4 |  6 |  0 |  2 |  0 |    NA | NA | NA               |          NA |           NA |   NA |      NA |     NA |       NA |    NA | NA    |\n",
       "| 8 | character | MaritalStatus        | 0 | 1 |  5 |  8 |  0 |  4 |  0 |    NA | NA | NA               |          NA |           NA |   NA |      NA |     NA |       NA |    NA | NA    |\n",
       "| 9 | character | Fault                | 0 | 1 | 11 | 13 |  0 |  2 |  0 |    NA | NA | NA               |          NA |           NA |   NA |      NA |     NA |       NA |    NA | NA    |\n",
       "| 10 | character | PolicyType           | 0 | 1 | 17 | 20 |  0 |  9 |  0 |    NA | NA | NA               |          NA |           NA |   NA |      NA |     NA |       NA |    NA | NA    |\n",
       "| 11 | character | VehicleCategory      | 0 | 1 |  5 |  7 |  0 |  3 |  0 |    NA | NA | NA               |          NA |           NA |   NA |      NA |     NA |       NA |    NA | NA    |\n",
       "| 12 | character | VehiclePrice         | 0 | 1 | 14 | 15 |  0 |  6 |  0 |    NA | NA | NA               |          NA |           NA |   NA |      NA |     NA |       NA |    NA | NA    |\n",
       "| 13 | character | Days_Policy_Accident | 0 | 1 |  4 | 12 |  0 |  5 |  0 |    NA | NA | NA               |          NA |           NA |   NA |      NA |     NA |       NA |    NA | NA    |\n",
       "| 14 | character | Days_Policy_Claim    | 0 | 1 |  4 | 12 |  0 |  4 |  0 |    NA | NA | NA               |          NA |           NA |   NA |      NA |     NA |       NA |    NA | NA    |\n",
       "| 15 | character | PastNumberOfClaims   | 0 | 1 |  1 | 11 |  0 |  4 |  0 |    NA | NA | NA               |          NA |           NA |   NA |      NA |     NA |       NA |    NA | NA    |\n",
       "| 16 | character | AgeOfVehicle         | 0 | 1 |  3 | 11 |  0 |  8 |  0 |    NA | NA | NA               |          NA |           NA |   NA |      NA |     NA |       NA |    NA | NA    |\n",
       "| 17 | character | AgeOfPolicyHolder    | 0 | 1 |  7 |  8 |  0 |  9 |  0 |    NA | NA | NA               |          NA |           NA |   NA |      NA |     NA |       NA |    NA | NA    |\n",
       "| 18 | character | PoliceReportFiled    | 0 | 1 |  2 |  3 |  0 |  2 |  0 |    NA | NA | NA               |          NA |           NA |   NA |      NA |     NA |       NA |    NA | NA    |\n",
       "| 19 | character | WitnessPresent       | 0 | 1 |  2 |  3 |  0 |  2 |  0 |    NA | NA | NA               |          NA |           NA |   NA |      NA |     NA |       NA |    NA | NA    |\n",
       "| 20 | character | AgentType            | 0 | 1 |  8 |  8 |  0 |  2 |  0 |    NA | NA | NA               |          NA |           NA |   NA |      NA |     NA |       NA |    NA | NA    |\n",
       "| 21 | character | NumberOfSuppliments  | 0 | 1 |  4 | 11 |  0 |  4 |  0 |    NA | NA | NA               |          NA |           NA |   NA |      NA |     NA |       NA |    NA | NA    |\n",
       "| 22 | character | AddressChange_Claim  | 0 | 1 |  6 | 14 |  0 |  5 |  0 |    NA | NA | NA               |          NA |           NA |   NA |      NA |     NA |       NA |    NA | NA    |\n",
       "| 23 | character | NumberOfCars         | 0 | 1 |  6 | 11 |  0 |  5 |  0 |    NA | NA | NA               |          NA |           NA |   NA |      NA |     NA |       NA |    NA | NA    |\n",
       "| 24 | character | BasePolicy           | 0 | 1 |  9 | 10 |  0 |  3 |  0 |    NA | NA | NA               |          NA |           NA |   NA |      NA |     NA |       NA |    NA | NA    |\n",
       "| 25 | factor    | FraudFound_P         | 0 | 1 | NA | NA | NA | NA | NA | FALSE |  2 | 0: 14497, 1: 923 |          NA |           NA |   NA |      NA |     NA |       NA |    NA | NA    |\n",
       "| 26 | numeric   | WeekOfMonth          | 0 | 1 | NA | NA | NA | NA | NA |    NA | NA | NA               |    2.788586 |    1.2875854 |    1 |    2.00 |    3.0 |     4.00 |     5 | ▇▇▇▇▃ |\n",
       "| 27 | numeric   | WeekOfMonthClaimed   | 0 | 1 | NA | NA | NA | NA | NA |    NA | NA | NA               |    2.693969 |    1.2591153 |    1 |    2.00 |    3.0 |     4.00 |     5 | ▇▇▇▇▂ |\n",
       "| 28 | numeric   | Age                  | 0 | 1 | NA | NA | NA | NA | NA |    NA | NA | NA               |   39.855707 |   13.4923767 |    0 |   31.00 |   38.0 |    48.00 |    80 | ▁▆▇▃▁ |\n",
       "| 29 | numeric   | PolicyNumber         | 0 | 1 | NA | NA | NA | NA | NA |    NA | NA | NA               | 7710.500000 | 4451.5149107 |    1 | 3855.75 | 7710.5 | 11565.25 | 15420 | ▇▇▇▇▇ |\n",
       "| 30 | numeric   | RepNumber            | 0 | 1 | NA | NA | NA | NA | NA |    NA | NA | NA               |    8.483268 |    4.5999481 |    1 |    5.00 |    8.0 |    12.00 |    16 | ▇▆▆▆▆ |\n",
       "| 31 | numeric   | Deductible           | 0 | 1 | NA | NA | NA | NA | NA |    NA | NA | NA               |  407.704280 |   43.9509980 |  300 |  400.00 |  400.0 |   400.00 |   700 | ▁▇▁▁▁ |\n",
       "| 32 | numeric   | DriverRating         | 0 | 1 | NA | NA | NA | NA | NA |    NA | NA | NA               |    2.487808 |    1.1194531 |    1 |    1.00 |    2.0 |     3.00 |     4 | ▇▇▁▇▇ |\n",
       "| 33 | numeric   | Year                 | 0 | 1 | NA | NA | NA | NA | NA |    NA | NA | NA               | 1994.866472 |    0.8033132 | 1994 | 1994.00 | 1995.0 |  1996.00 |  1996 | ▇▁▇▁▅ |\n",
       "\n"
      ]
     },
     "metadata": {},
     "output_type": "display_data"
    }
   ],
   "source": [
    "skim(mydata)"
   ]
  },
  {
   "cell_type": "code",
   "execution_count": 10,
   "id": "a8c07bef",
   "metadata": {},
   "outputs": [
    {
     "data": {
      "image/png": "[encoded data removed]",
      "text/plain": [
       "plot without title"
      ]
     },
     "metadata": {
      "image/png": {
       "height": 420,
       "width": 420
      }
     },
     "output_type": "display_data"
    }
   ],
   "source": [
    "qplot(FraudFound_P, data = mydata, fill = BasePolicy) + facet_grid (. ~ BasePolicy)"
   ]
  },
  {
   "cell_type": "code",
   "execution_count": 11,
   "id": "32ae4c45",
   "metadata": {},
   "outputs": [
    {
     "data": {
      "image/png": "[encoded data removed]",
      "text/plain": [
       "plot without title"
      ]
     },
     "metadata": {
      "image/png": {
       "height": 420,
       "width": 420
      }
     },
     "output_type": "display_data"
    }
   ],
   "source": [
    "qplot(FraudFound_P, data = mydata, fill = Fault) + facet_grid (. ~ Fault)"
   ]
  },
  {
   "cell_type": "code",
   "execution_count": 12,
   "id": "7ab736af",
   "metadata": {},
   "outputs": [
    {
     "data": {
      "image/png": "[encoded data removed]",
      "text/plain": [
       "plot without title"
      ]
     },
     "metadata": {
      "image/png": {
       "height": 420,
       "width": 420
      }
     },
     "output_type": "display_data"
    }
   ],
   "source": [
    "qplot(FraudFound_P, data = mydata, fill = AgeOfVehicle) + facet_grid (. ~ AgeOfVehicle)"
   ]
  },
  {
   "cell_type": "code",
   "execution_count": 13,
   "id": "2aeec8d0",
   "metadata": {},
   "outputs": [
    {
     "name": "stderr",
     "output_type": "stream",
     "text": [
      "Installing package into 'C:/Users/anwes/AppData/Local/R/win-library/4.2'\n",
      "(as 'lib' is unspecified)\n",
      "\n"
     ]
    },
    {
     "name": "stdout",
     "output_type": "stream",
     "text": [
      "package 'moments' successfully unpacked and MD5 sums checked\n",
      "\n",
      "The downloaded binary packages are in\n",
      "\tC:\\Users\\anwes\\AppData\\Local\\Temp\\RtmpgR9xvg\\downloaded_packages\n"
     ]
    }
   ],
   "source": [
    "# for skewness()\n",
    "install.packages('moments')\n",
    "library(moments)"
   ]
  },
  {
   "cell_type": "code",
   "execution_count": 14,
   "id": "ffa0e274",
   "metadata": {},
   "outputs": [
    {
     "name": "stdout",
     "output_type": "stream",
     "text": [
      "[1] \"WeekOfMonth: 0.115415205462429\"\n",
      "[1] \"WeekOfMonthClaimed: 0.158217673027398\"\n",
      "[1] \"Age: 0.152299230328885\"\n",
      "[1] \"PolicyNumber: 0\"\n",
      "[1] \"RepNumber: 0.00662745345754262\"\n",
      "[1] \"Deductible: 6.07821188635314\"\n",
      "[1] \"DriverRating: 0.00928207991942356\"\n",
      "[1] \"Year: 0.24566548507392\"\n"
     ]
    }
   ],
   "source": [
    "skewedVars<- NA\n",
    "\n",
    "for(i in names(mydata)){\n",
    "   if(is.numeric(mydata[,i])){\n",
    "     if(i != \"FraudFound_P\"){\n",
    "       # Enters this block if variable is non-categorical\n",
    "       skewVal <- skewness(mydata[,i])\n",
    "       print(paste(i, skewVal, sep = \": \"))\n",
    "       if(abs(skewVal) > 0.5){\n",
    "         skewedVars <- c(skewedVars, i)\n",
    "       }\n",
    "     }\n",
    "   }\n",
    " }"
   ]
  },
  {
   "cell_type": "code",
   "execution_count": 15,
   "id": "a8d5318d",
   "metadata": {},
   "outputs": [
    {
     "name": "stdout",
     "output_type": "stream",
     "text": [
      "'data.frame':\t15420 obs. of  33 variables:\n",
      " $ WeekOfMonth         : int  5 3 5 2 5 4 1 1 4 3 ...\n",
      " $ Age                 : int  21 34 47 65 27 20 36 0 30 42 ...\n",
      " $ WeekOfMonthClaimed  : int  1 4 2 1 2 1 3 4 5 3 ...\n",
      " $ PolicyNumber        : int  1 2 3 4 5 6 7 8 9 10 ...\n",
      " $ RepNumber           : int  12 15 7 4 3 12 14 1 7 7 ...\n",
      " $ Deductible          : int  300 400 400 400 400 400 400 400 400 400 ...\n",
      " $ DriverRating        : int  1 4 3 2 1 3 1 4 4 1 ...\n",
      " $ Year                : int  1994 1994 1994 1994 1994 1994 1994 1994 1994 1994 ...\n",
      " $ Fault               : chr  \"Policy Holder\" \"Policy Holder\" \"Policy Holder\" \"Third Party\" ...\n",
      " $ Month               : chr  \"Dec\" \"Jan\" \"Oct\" \"Jun\" ...\n",
      " $ DayOfWeek           : chr  \"Wednesday\" \"Wednesday\" \"Friday\" \"Saturday\" ...\n",
      " $ Make                : chr  \"Honda\" \"Honda\" \"Honda\" \"Toyota\" ...\n",
      " $ AccidentArea        : chr  \"Urban\" \"Urban\" \"Urban\" \"Rural\" ...\n",
      " $ NumberOfSuppliments : chr  \"none\" \"none\" \"none\" \"more than 5\" ...\n",
      " $ AddressChange_Claim : chr  \"1 year\" \"no change\" \"no change\" \"no change\" ...\n",
      " $ NumberOfCars        : chr  \"3 to 4\" \"1 vehicle\" \"1 vehicle\" \"1 vehicle\" ...\n",
      " $ Days_Policy_Claim   : chr  \"more than 30\" \"more than 30\" \"more than 30\" \"more than 30\" ...\n",
      " $ PastNumberOfClaims  : chr  \"none\" \"none\" \"1\" \"1\" ...\n",
      " $ AgeOfVehicle        : chr  \"3 years\" \"6 years\" \"7 years\" \"more than 7\" ...\n",
      " $ AgeOfPolicyHolder   : chr  \"26 to 30\" \"31 to 35\" \"41 to 50\" \"51 to 65\" ...\n",
      " $ PoliceReportFiled   : chr  \"No\" \"Yes\" \"No\" \"Yes\" ...\n",
      " $ WitnessPresent      : chr  \"No\" \"No\" \"No\" \"No\" ...\n",
      " $ AgentType           : chr  \"External\" \"External\" \"External\" \"External\" ...\n",
      " $ PolicyType          : chr  \"Sport - Liability\" \"Sport - Collision\" \"Sport - Collision\" \"Sedan - Liability\" ...\n",
      " $ VehiclePrice        : chr  \"more than 69000\" \"more than 69000\" \"more than 69000\" \"20000 to 29000\" ...\n",
      " $ FraudFound_P        : Factor w/ 2 levels \"0\",\"1\": 1 1 1 1 1 1 1 1 1 1 ...\n",
      " $ BasePolicy          : chr  \"Liability\" \"Collision\" \"Collision\" \"Liability\" ...\n",
      " $ DayOfWeekClaimed    : chr  \"Tuesday\" \"Monday\" \"Thursday\" \"Friday\" ...\n",
      " $ MonthClaimed        : chr  \"Jan\" \"Jan\" \"Nov\" \"Jul\" ...\n",
      " $ Sex                 : chr  \"Female\" \"Male\" \"Male\" \"Male\" ...\n",
      " $ MaritalStatus       : chr  \"Single\" \"Single\" \"Married\" \"Married\" ...\n",
      " $ Days_Policy_Accident: chr  \"more than 30\" \"more than 30\" \"more than 30\" \"more than 30\" ...\n",
      " $ VehicleCategory     : chr  \"Sport\" \"Sport\" \"Sport\" \"Sport\" ...\n"
     ]
    }
   ],
   "source": [
    "mydata<- mydata[c(2,11,8,17:20,32,12,1,3:5,29:31,22:28,13,15:16,33,6:7,9:10,21,14)]\n",
    "str(mydata)"
   ]
  },
  {
   "cell_type": "code",
   "execution_count": 16,
   "id": "6057ca1a",
   "metadata": {},
   "outputs": [],
   "source": [
    "mydata.norm<- mydata\n",
    "mydata.norm$Deductible<- NULL"
   ]
  },
  {
   "cell_type": "code",
   "execution_count": null,
   "id": "8d29e64c",
   "metadata": {},
   "outputs": [],
   "source": []
  },
  {
   "cell_type": "code",
   "execution_count": 17,
   "id": "e706219e",
   "metadata": {},
   "outputs": [
    {
     "name": "stdout",
     "output_type": "stream",
     "text": [
      "Compare row 4  and column  7 with corr  0.937 \n",
      "  Means:  0.167 vs 0.05 so flagging column 4 \n",
      "All correlations <= 0.7 \n"
     ]
    },
    {
     "data": {
      "text/html": [
       "'PolicyNumber'"
      ],
      "text/latex": [
       "'PolicyNumber'"
      ],
      "text/markdown": [
       "'PolicyNumber'"
      ],
      "text/plain": [
       "[1] \"PolicyNumber\""
      ]
     },
     "metadata": {},
     "output_type": "display_data"
    },
    {
     "data": {
      "image/png": "[encoded data removed]",
      "text/plain": [
       "Plot with title \"\""
      ]
     },
     "metadata": {
      "image/png": {
       "height": 420,
       "width": 420
      }
     },
     "output_type": "display_data"
    }
   ],
   "source": [
    "correlat<- cor(mydata.norm[c(1:7)])\n",
    "corrplot(correlat, method = \"pie\")\n",
    "highlyCor <- colnames(mydata)[findCorrelation(correlat, cutoff = 0.7, verbose = TRUE)]\n",
    "\n",
    "highlyCor\n"
   ]
  },
  {
   "cell_type": "code",
   "execution_count": 18,
   "id": "7e93a1dc",
   "metadata": {},
   "outputs": [],
   "source": [
    "mydata$Fault=as.factor(mydata$Fault)\n",
    "mydata$Month=as.factor(mydata$Month)\n",
    "mydata$DayOfWeek=as.factor(mydata$DayOfWeek)\n",
    "mydata$Make=as.factor(mydata$Make)\n",
    "mydata$AccidentArea=as.factor(mydata$AccidentArea)\n",
    "mydata$DayOfWeekClaimed=as.factor(mydata$DayOfWeekClaimed)\n",
    "mydata$MonthClaimed=as.factor(mydata$MonthClaimed)\n",
    "mydata$Sex=as.factor(mydata$Sex)\n",
    "mydata$MaritalStatus=as.factor(mydata$MaritalStatus)\n",
    "mydata$PolicyType=as.factor(mydata$PolicyType)\n",
    "mydata$VehicleCategory=as.factor(mydata$VehicleCategory)\n",
    "mydata$VehiclePrice=as.factor(mydata$VehiclePrice)\n",
    "mydata$Days_Policy_Accident=as.factor(mydata$Days_Policy_Accident)\n",
    "mydata$Days_Policy_Claim=as.factor(mydata$Days_Policy_Claim)\n",
    "mydata$PastNumberOfClaims=as.factor(mydata$PastNumberOfClaims)\n",
    "mydata$AgeOfVehicle=as.factor(mydata$AgeOfVehicle)\n",
    "mydata$AgeOfPolicyHolder=as.factor(mydata$AgeOfPolicyHolder)\n",
    "mydata$PoliceReportFiled=as.factor(mydata$PoliceReportFiled)\n",
    "mydata$WitnessPresent=as.factor(mydata$WitnessPresent)\n",
    "mydata$AgentType=as.factor(mydata$AgentType)\n",
    "mydata$NumberOfSuppliments=as.factor(mydata$NumberOfSuppliments)\n",
    "mydata$AddressChange_Claim=as.factor(mydata$AddressChange_Claim)\n",
    "mydata$NumberOfCars=as.factor(mydata$NumberOfCars)\n",
    "mydata$BasePolicy=as.factor(mydata$BasePolicy)"
   ]
  },
  {
   "cell_type": "code",
   "execution_count": 19,
   "id": "2cf19a17",
   "metadata": {},
   "outputs": [
    {
     "name": "stderr",
     "output_type": "stream",
     "text": [
      "Installing package into 'C:/Users/anwes/AppData/Local/R/win-library/4.2'\n",
      "(as 'lib' is unspecified)\n",
      "\n"
     ]
    },
    {
     "name": "stdout",
     "output_type": "stream",
     "text": [
      "package 'Boruta' successfully unpacked and MD5 sums checked\n",
      "\n",
      "The downloaded binary packages are in\n",
      "\tC:\\Users\\anwes\\AppData\\Local\\Temp\\RtmpgR9xvg\\downloaded_packages\n"
     ]
    }
   ],
   "source": [
    "install.packages(\"Boruta\")\n",
    "library(Boruta)\n",
    "library(mlbench)"
   ]
  },
  {
   "cell_type": "code",
   "execution_count": 20,
   "id": "e53b6b3a",
   "metadata": {},
   "outputs": [
    {
     "name": "stderr",
     "output_type": "stream",
     "text": [
      " 1. run of importance source...\n",
      "\n",
      " 2. run of importance source...\n",
      "\n",
      " 3. run of importance source...\n",
      "\n",
      " 4. run of importance source...\n",
      "\n",
      " 5. run of importance source...\n",
      "\n",
      " 6. run of importance source...\n",
      "\n",
      " 7. run of importance source...\n",
      "\n",
      " 8. run of importance source...\n",
      "\n",
      " 9. run of importance source...\n",
      "\n",
      " 10. run of importance source...\n",
      "\n",
      " 11. run of importance source...\n",
      "\n",
      " 12. run of importance source...\n",
      "\n",
      "After 12 iterations, +2.4 mins: \n",
      "\n",
      " confirmed 14 attributes: AddressChange_Claim, Age, AgeOfPolicyHolder, AgeOfVehicle, BasePolicy and 9 more;\n",
      "\n",
      " rejected 6 attributes: AccidentArea, AgentType, DayOfWeek, Days_Policy_Accident, DriverRating and 1 more;\n",
      "\n",
      " still have 12 attributes left.\n",
      "\n",
      "\n",
      " 13. run of importance source...\n",
      "\n",
      " 14. run of importance source...\n",
      "\n",
      " 15. run of importance source...\n",
      "\n",
      " 16. run of importance source...\n",
      "\n",
      "After 16 iterations, +3 mins: \n",
      "\n",
      " rejected 2 attributes: PoliceReportFiled, RepNumber;\n",
      "\n",
      " still have 10 attributes left.\n",
      "\n",
      "\n",
      " 17. run of importance source...\n",
      "\n",
      " 18. run of importance source...\n",
      "\n",
      " 19. run of importance source...\n",
      "\n",
      " 20. run of importance source...\n",
      "\n",
      " 21. run of importance source...\n",
      "\n",
      " 22. run of importance source...\n",
      "\n",
      " 23. run of importance source...\n",
      "\n",
      "After 23 iterations, +4 mins: \n",
      "\n",
      " rejected 2 attributes: DayOfWeekClaimed, NumberOfCars;\n",
      "\n",
      " still have 8 attributes left.\n",
      "\n",
      "\n",
      " 24. run of importance source...\n",
      "\n",
      " 25. run of importance source...\n",
      "\n",
      " 26. run of importance source...\n",
      "\n",
      " 27. run of importance source...\n",
      "\n",
      " 28. run of importance source...\n",
      "\n",
      " 29. run of importance source...\n",
      "\n",
      "After 29 iterations, +4.8 mins: \n",
      "\n",
      " confirmed 1 attribute: PastNumberOfClaims;\n",
      "\n",
      " still have 7 attributes left.\n",
      "\n",
      "\n",
      " 30. run of importance source...\n",
      "\n",
      " 31. run of importance source...\n",
      "\n",
      " 32. run of importance source...\n",
      "\n",
      " 33. run of importance source...\n",
      "\n",
      " 34. run of importance source...\n",
      "\n",
      " 35. run of importance source...\n",
      "\n",
      " 36. run of importance source...\n",
      "\n",
      " 37. run of importance source...\n",
      "\n",
      " 38. run of importance source...\n",
      "\n",
      " 39. run of importance source...\n",
      "\n",
      " 40. run of importance source...\n",
      "\n",
      " 41. run of importance source...\n",
      "\n",
      " 42. run of importance source...\n",
      "\n",
      " 43. run of importance source...\n",
      "\n",
      "After 43 iterations, +6.5 mins: \n",
      "\n",
      " confirmed 1 attribute: WeekOfMonth;\n",
      "\n",
      " still have 6 attributes left.\n",
      "\n",
      "\n",
      " 44. run of importance source...\n",
      "\n",
      " 45. run of importance source...\n",
      "\n",
      " 46. run of importance source...\n",
      "\n",
      " 47. run of importance source...\n",
      "\n",
      " 48. run of importance source...\n",
      "\n",
      " 49. run of importance source...\n",
      "\n",
      " 50. run of importance source...\n",
      "\n",
      " 51. run of importance source...\n",
      "\n",
      " 52. run of importance source...\n",
      "\n",
      " 53. run of importance source...\n",
      "\n",
      " 54. run of importance source...\n",
      "\n",
      "After 54 iterations, +7.8 mins: \n",
      "\n",
      " rejected 1 attribute: VehiclePrice;\n",
      "\n",
      " still have 5 attributes left.\n",
      "\n",
      "\n",
      " 55. run of importance source...\n",
      "\n",
      " 56. run of importance source...\n",
      "\n",
      " 57. run of importance source...\n",
      "\n",
      "After 57 iterations, +8.1 mins: \n",
      "\n",
      " confirmed 1 attribute: WeekOfMonthClaimed;\n",
      "\n",
      " still have 4 attributes left.\n",
      "\n",
      "\n",
      " 58. run of importance source...\n",
      "\n",
      " 59. run of importance source...\n",
      "\n",
      " 60. run of importance source...\n",
      "\n",
      " 61. run of importance source...\n",
      "\n",
      " 62. run of importance source...\n",
      "\n",
      " 63. run of importance source...\n",
      "\n",
      " 64. run of importance source...\n",
      "\n",
      " 65. run of importance source...\n",
      "\n",
      " 66. run of importance source...\n",
      "\n",
      " 67. run of importance source...\n",
      "\n",
      " 68. run of importance source...\n",
      "\n",
      " 69. run of importance source...\n",
      "\n",
      " 70. run of importance source...\n",
      "\n",
      " 71. run of importance source...\n",
      "\n",
      " 72. run of importance source...\n",
      "\n",
      " 73. run of importance source...\n",
      "\n",
      " 74. run of importance source...\n",
      "\n",
      " 75. run of importance source...\n",
      "\n",
      " 76. run of importance source...\n",
      "\n",
      " 77. run of importance source...\n",
      "\n",
      " 78. run of importance source...\n",
      "\n",
      " 79. run of importance source...\n",
      "\n",
      " 80. run of importance source...\n",
      "\n",
      " 81. run of importance source...\n",
      "\n",
      " 82. run of importance source...\n",
      "\n",
      " 83. run of importance source...\n",
      "\n",
      " 84. run of importance source...\n",
      "\n",
      " 85. run of importance source...\n",
      "\n",
      " 86. run of importance source...\n",
      "\n",
      " 87. run of importance source...\n",
      "\n",
      " 88. run of importance source...\n",
      "\n",
      " 89. run of importance source...\n",
      "\n",
      " 90. run of importance source...\n",
      "\n",
      " 91. run of importance source...\n",
      "\n",
      " 92. run of importance source...\n",
      "\n",
      " 93. run of importance source...\n",
      "\n",
      " 94. run of importance source...\n",
      "\n",
      " 95. run of importance source...\n",
      "\n",
      " 96. run of importance source...\n",
      "\n",
      " 97. run of importance source...\n",
      "\n",
      " 98. run of importance source...\n",
      "\n",
      " 99. run of importance source...\n",
      "\n"
     ]
    },
    {
     "name": "stdout",
     "output_type": "stream",
     "text": [
      "Boruta performed 99 iterations in 12.14058 mins.\n",
      " 17 attributes confirmed important: AddressChange_Claim, Age,\n",
      "AgeOfPolicyHolder, AgeOfVehicle, BasePolicy and 12 more;\n",
      " 11 attributes confirmed unimportant: AccidentArea, AgentType,\n",
      "DayOfWeek, DayOfWeekClaimed, Days_Policy_Accident and 6 more;\n",
      " 4 tentative attributes left: Days_Policy_Claim, Make, Sex,\n",
      "WitnessPresent;\n"
     ]
    }
   ],
   "source": [
    "set.seed(111)\n",
    "boruta <- Boruta(FraudFound_P ~ ., data = mydata, doTrace = 2, maxRuns = 100)\n",
    "print(boruta)"
   ]
  },
  {
   "cell_type": "code",
   "execution_count": 21,
   "id": "8ff296a2",
   "metadata": {},
   "outputs": [
    {
     "data": {
      "image/png": "[encoded data removed]",
      "text/plain": [
       "plot without title"
      ]
     },
     "metadata": {
      "image/png": {
       "height": 420,
       "width": 420
      }
     },
     "output_type": "display_data"
    }
   ],
   "source": [
    "plot(boruta, las = 2, cex.axis = 0.7)"
   ]
  },
  {
   "cell_type": "code",
   "execution_count": 22,
   "id": "8e0d4086",
   "metadata": {},
   "outputs": [
    {
     "data": {
      "image/png": "[encoded data removed]",
      "text/plain": [
       "plot without title"
      ]
     },
     "metadata": {
      "image/png": {
       "height": 420,
       "width": 420
      }
     },
     "output_type": "display_data"
    }
   ],
   "source": [
    "plotImpHistory(boruta)"
   ]
  },
  {
   "cell_type": "code",
   "execution_count": 23,
   "id": "0c4df9d4",
   "metadata": {},
   "outputs": [
    {
     "name": "stdout",
     "output_type": "stream",
     "text": [
      "Boruta performed 99 iterations in 12.14058 mins.\n",
      "Tentatives roughfixed over the last 99 iterations.\n",
      " 18 attributes confirmed important: AddressChange_Claim, Age,\n",
      "AgeOfPolicyHolder, AgeOfVehicle, BasePolicy and 13 more;\n",
      " 14 attributes confirmed unimportant: AccidentArea, AgentType,\n",
      "DayOfWeek, DayOfWeekClaimed, Days_Policy_Accident and 9 more;\n"
     ]
    }
   ],
   "source": [
    "bor <- TentativeRoughFix(boruta)\n",
    "print(bor)"
   ]
  },
  {
   "cell_type": "code",
   "execution_count": 24,
   "id": "46b71ff7",
   "metadata": {},
   "outputs": [
    {
     "data": {
      "text/html": [
       "<table class=\"dataframe\">\n",
       "<caption>A data.frame: 32 × 6</caption>\n",
       "<thead>\n",
       "\t<tr><th></th><th scope=col>meanImp</th><th scope=col>medianImp</th><th scope=col>minImp</th><th scope=col>maxImp</th><th scope=col>normHits</th><th scope=col>decision</th></tr>\n",
       "\t<tr><th></th><th scope=col>&lt;dbl&gt;</th><th scope=col>&lt;dbl&gt;</th><th scope=col>&lt;dbl&gt;</th><th scope=col>&lt;dbl&gt;</th><th scope=col>&lt;dbl&gt;</th><th scope=col>&lt;fct&gt;</th></tr>\n",
       "</thead>\n",
       "<tbody>\n",
       "\t<tr><th scope=row>WeekOfMonth</th><td> 4.05430558</td><td> 4.0009641</td><td> 0.88491137</td><td> 7.8599242</td><td>0.86868687</td><td>Confirmed</td></tr>\n",
       "\t<tr><th scope=row>Age</th><td>21.06098381</td><td>21.4918711</td><td>15.42022727</td><td>24.3851062</td><td>1.00000000</td><td>Confirmed</td></tr>\n",
       "\t<tr><th scope=row>WeekOfMonthClaimed</th><td> 3.95134141</td><td> 3.9249441</td><td>-0.07230726</td><td> 6.3393921</td><td>0.84848485</td><td>Confirmed</td></tr>\n",
       "\t<tr><th scope=row>PolicyNumber</th><td>12.60853039</td><td>12.5845786</td><td> 7.37297905</td><td>16.6521428</td><td>1.00000000</td><td>Confirmed</td></tr>\n",
       "\t<tr><th scope=row>RepNumber</th><td> 0.07670731</td><td>-0.1481162</td><td>-1.71676579</td><td> 2.0144172</td><td>0.01010101</td><td>Rejected </td></tr>\n",
       "\t<tr><th scope=row>Deductible</th><td>15.89571073</td><td>15.9521025</td><td>13.20599069</td><td>17.8623553</td><td>1.00000000</td><td>Confirmed</td></tr>\n",
       "\t<tr><th scope=row>DriverRating</th><td> 0.11709212</td><td> 0.3546933</td><td>-2.63370341</td><td> 1.5701312</td><td>0.00000000</td><td>Rejected </td></tr>\n",
       "\t<tr><th scope=row>Year</th><td>10.77119612</td><td>10.8088445</td><td> 6.41836543</td><td>14.5011968</td><td>1.00000000</td><td>Confirmed</td></tr>\n",
       "\t<tr><th scope=row>Fault</th><td>64.15601705</td><td>64.8871418</td><td>52.09246397</td><td>72.9655760</td><td>1.00000000</td><td>Confirmed</td></tr>\n",
       "\t<tr><th scope=row>Month</th><td>14.62740841</td><td>14.9000471</td><td> 9.91861658</td><td>18.4375466</td><td>1.00000000</td><td>Confirmed</td></tr>\n",
       "\t<tr><th scope=row>DayOfWeek</th><td>-0.28376281</td><td>-0.1772506</td><td>-2.07537514</td><td> 1.0021778</td><td>0.00000000</td><td>Rejected </td></tr>\n",
       "\t<tr><th scope=row>Make</th><td> 1.96450469</td><td> 1.9271750</td><td>-1.54312578</td><td> 5.6563179</td><td>0.35353535</td><td>Tentative</td></tr>\n",
       "\t<tr><th scope=row>AccidentArea</th><td> 0.13299225</td><td> 0.3705811</td><td>-1.12637817</td><td> 0.8964979</td><td>0.00000000</td><td>Rejected </td></tr>\n",
       "\t<tr><th scope=row>NumberOfSuppliments</th><td> 0.28026275</td><td> 0.3946262</td><td>-0.94315535</td><td> 1.7559103</td><td>0.00000000</td><td>Rejected </td></tr>\n",
       "\t<tr><th scope=row>AddressChange_Claim</th><td>16.42055669</td><td>16.3762545</td><td>13.50141217</td><td>18.9310414</td><td>1.00000000</td><td>Confirmed</td></tr>\n",
       "\t<tr><th scope=row>NumberOfCars</th><td> 1.00174461</td><td> 0.8961558</td><td>-0.50604344</td><td> 2.5683734</td><td>0.03030303</td><td>Rejected </td></tr>\n",
       "\t<tr><th scope=row>Days_Policy_Claim</th><td> 2.33574653</td><td> 2.3368106</td><td>-0.13235726</td><td> 4.6794461</td><td>0.45454545</td><td>Tentative</td></tr>\n",
       "\t<tr><th scope=row>PastNumberOfClaims</th><td> 3.74857719</td><td> 3.6965041</td><td> 1.25167150</td><td> 6.3597209</td><td>0.81818182</td><td>Confirmed</td></tr>\n",
       "\t<tr><th scope=row>AgeOfVehicle</th><td>17.45266046</td><td>17.7267782</td><td>13.48693103</td><td>20.2568501</td><td>1.00000000</td><td>Confirmed</td></tr>\n",
       "\t<tr><th scope=row>AgeOfPolicyHolder</th><td>18.26070510</td><td>18.4847658</td><td>12.87269897</td><td>21.0336187</td><td>1.00000000</td><td>Confirmed</td></tr>\n",
       "\t<tr><th scope=row>PoliceReportFiled</th><td> 1.09699433</td><td> 1.1964736</td><td>-1.16665559</td><td> 2.7257332</td><td>0.01010101</td><td>Rejected </td></tr>\n",
       "\t<tr><th scope=row>WitnessPresent</th><td> 2.37116315</td><td> 2.3261486</td><td> 0.05090537</td><td> 4.9224715</td><td>0.49494949</td><td>Tentative</td></tr>\n",
       "\t<tr><th scope=row>AgentType</th><td>-1.17445600</td><td>-1.3556529</td><td>-2.92152943</td><td> 0.7340742</td><td>0.00000000</td><td>Rejected </td></tr>\n",
       "\t<tr><th scope=row>PolicyType</th><td>11.59644683</td><td>11.5577724</td><td> 9.97538205</td><td>14.0239786</td><td>1.00000000</td><td>Confirmed</td></tr>\n",
       "\t<tr><th scope=row>VehiclePrice</th><td> 1.74671161</td><td> 1.7159844</td><td>-0.76662501</td><td> 4.8050547</td><td>0.14141414</td><td>Rejected </td></tr>\n",
       "\t<tr><th scope=row>BasePolicy</th><td>22.98692536</td><td>22.0492383</td><td>19.39272887</td><td>27.0832424</td><td>1.00000000</td><td>Confirmed</td></tr>\n",
       "\t<tr><th scope=row>DayOfWeekClaimed</th><td> 1.04093011</td><td> 0.7888974</td><td>-0.47508931</td><td> 3.1238643</td><td>0.03030303</td><td>Rejected </td></tr>\n",
       "\t<tr><th scope=row>MonthClaimed</th><td>15.17170968</td><td>15.4767722</td><td>10.29269680</td><td>18.5224592</td><td>1.00000000</td><td>Confirmed</td></tr>\n",
       "\t<tr><th scope=row>Sex</th><td> 3.09344876</td><td> 2.9792401</td><td>-0.20657933</td><td> 5.8996211</td><td>0.66666667</td><td>Tentative</td></tr>\n",
       "\t<tr><th scope=row>MaritalStatus</th><td> 7.77948573</td><td> 7.8742622</td><td> 5.03647127</td><td>10.3720879</td><td>1.00000000</td><td>Confirmed</td></tr>\n",
       "\t<tr><th scope=row>Days_Policy_Accident</th><td> 0.53710823</td><td> 0.5525459</td><td>-2.15031679</td><td> 2.0734529</td><td>0.00000000</td><td>Rejected </td></tr>\n",
       "\t<tr><th scope=row>VehicleCategory</th><td>14.33322785</td><td>14.2326317</td><td>12.08385819</td><td>16.5249469</td><td>1.00000000</td><td>Confirmed</td></tr>\n",
       "</tbody>\n",
       "</table>\n"
      ],
      "text/latex": [
       "A data.frame: 32 × 6\n",
       "\\begin{tabular}{r|llllll}\n",
       "  & meanImp & medianImp & minImp & maxImp & normHits & decision\\\\\n",
       "  & <dbl> & <dbl> & <dbl> & <dbl> & <dbl> & <fct>\\\\\n",
       "\\hline\n",
       "\tWeekOfMonth &  4.05430558 &  4.0009641 &  0.88491137 &  7.8599242 & 0.86868687 & Confirmed\\\\\n",
       "\tAge & 21.06098381 & 21.4918711 & 15.42022727 & 24.3851062 & 1.00000000 & Confirmed\\\\\n",
       "\tWeekOfMonthClaimed &  3.95134141 &  3.9249441 & -0.07230726 &  6.3393921 & 0.84848485 & Confirmed\\\\\n",
       "\tPolicyNumber & 12.60853039 & 12.5845786 &  7.37297905 & 16.6521428 & 1.00000000 & Confirmed\\\\\n",
       "\tRepNumber &  0.07670731 & -0.1481162 & -1.71676579 &  2.0144172 & 0.01010101 & Rejected \\\\\n",
       "\tDeductible & 15.89571073 & 15.9521025 & 13.20599069 & 17.8623553 & 1.00000000 & Confirmed\\\\\n",
       "\tDriverRating &  0.11709212 &  0.3546933 & -2.63370341 &  1.5701312 & 0.00000000 & Rejected \\\\\n",
       "\tYear & 10.77119612 & 10.8088445 &  6.41836543 & 14.5011968 & 1.00000000 & Confirmed\\\\\n",
       "\tFault & 64.15601705 & 64.8871418 & 52.09246397 & 72.9655760 & 1.00000000 & Confirmed\\\\\n",
       "\tMonth & 14.62740841 & 14.9000471 &  9.91861658 & 18.4375466 & 1.00000000 & Confirmed\\\\\n",
       "\tDayOfWeek & -0.28376281 & -0.1772506 & -2.07537514 &  1.0021778 & 0.00000000 & Rejected \\\\\n",
       "\tMake &  1.96450469 &  1.9271750 & -1.54312578 &  5.6563179 & 0.35353535 & Tentative\\\\\n",
       "\tAccidentArea &  0.13299225 &  0.3705811 & -1.12637817 &  0.8964979 & 0.00000000 & Rejected \\\\\n",
       "\tNumberOfSuppliments &  0.28026275 &  0.3946262 & -0.94315535 &  1.7559103 & 0.00000000 & Rejected \\\\\n",
       "\tAddressChange\\_Claim & 16.42055669 & 16.3762545 & 13.50141217 & 18.9310414 & 1.00000000 & Confirmed\\\\\n",
       "\tNumberOfCars &  1.00174461 &  0.8961558 & -0.50604344 &  2.5683734 & 0.03030303 & Rejected \\\\\n",
       "\tDays\\_Policy\\_Claim &  2.33574653 &  2.3368106 & -0.13235726 &  4.6794461 & 0.45454545 & Tentative\\\\\n",
       "\tPastNumberOfClaims &  3.74857719 &  3.6965041 &  1.25167150 &  6.3597209 & 0.81818182 & Confirmed\\\\\n",
       "\tAgeOfVehicle & 17.45266046 & 17.7267782 & 13.48693103 & 20.2568501 & 1.00000000 & Confirmed\\\\\n",
       "\tAgeOfPolicyHolder & 18.26070510 & 18.4847658 & 12.87269897 & 21.0336187 & 1.00000000 & Confirmed\\\\\n",
       "\tPoliceReportFiled &  1.09699433 &  1.1964736 & -1.16665559 &  2.7257332 & 0.01010101 & Rejected \\\\\n",
       "\tWitnessPresent &  2.37116315 &  2.3261486 &  0.05090537 &  4.9224715 & 0.49494949 & Tentative\\\\\n",
       "\tAgentType & -1.17445600 & -1.3556529 & -2.92152943 &  0.7340742 & 0.00000000 & Rejected \\\\\n",
       "\tPolicyType & 11.59644683 & 11.5577724 &  9.97538205 & 14.0239786 & 1.00000000 & Confirmed\\\\\n",
       "\tVehiclePrice &  1.74671161 &  1.7159844 & -0.76662501 &  4.8050547 & 0.14141414 & Rejected \\\\\n",
       "\tBasePolicy & 22.98692536 & 22.0492383 & 19.39272887 & 27.0832424 & 1.00000000 & Confirmed\\\\\n",
       "\tDayOfWeekClaimed &  1.04093011 &  0.7888974 & -0.47508931 &  3.1238643 & 0.03030303 & Rejected \\\\\n",
       "\tMonthClaimed & 15.17170968 & 15.4767722 & 10.29269680 & 18.5224592 & 1.00000000 & Confirmed\\\\\n",
       "\tSex &  3.09344876 &  2.9792401 & -0.20657933 &  5.8996211 & 0.66666667 & Tentative\\\\\n",
       "\tMaritalStatus &  7.77948573 &  7.8742622 &  5.03647127 & 10.3720879 & 1.00000000 & Confirmed\\\\\n",
       "\tDays\\_Policy\\_Accident &  0.53710823 &  0.5525459 & -2.15031679 &  2.0734529 & 0.00000000 & Rejected \\\\\n",
       "\tVehicleCategory & 14.33322785 & 14.2326317 & 12.08385819 & 16.5249469 & 1.00000000 & Confirmed\\\\\n",
       "\\end{tabular}\n"
      ],
      "text/markdown": [
       "\n",
       "A data.frame: 32 × 6\n",
       "\n",
       "| <!--/--> | meanImp &lt;dbl&gt; | medianImp &lt;dbl&gt; | minImp &lt;dbl&gt; | maxImp &lt;dbl&gt; | normHits &lt;dbl&gt; | decision &lt;fct&gt; |\n",
       "|---|---|---|---|---|---|---|\n",
       "| WeekOfMonth |  4.05430558 |  4.0009641 |  0.88491137 |  7.8599242 | 0.86868687 | Confirmed |\n",
       "| Age | 21.06098381 | 21.4918711 | 15.42022727 | 24.3851062 | 1.00000000 | Confirmed |\n",
       "| WeekOfMonthClaimed |  3.95134141 |  3.9249441 | -0.07230726 |  6.3393921 | 0.84848485 | Confirmed |\n",
       "| PolicyNumber | 12.60853039 | 12.5845786 |  7.37297905 | 16.6521428 | 1.00000000 | Confirmed |\n",
       "| RepNumber |  0.07670731 | -0.1481162 | -1.71676579 |  2.0144172 | 0.01010101 | Rejected  |\n",
       "| Deductible | 15.89571073 | 15.9521025 | 13.20599069 | 17.8623553 | 1.00000000 | Confirmed |\n",
       "| DriverRating |  0.11709212 |  0.3546933 | -2.63370341 |  1.5701312 | 0.00000000 | Rejected  |\n",
       "| Year | 10.77119612 | 10.8088445 |  6.41836543 | 14.5011968 | 1.00000000 | Confirmed |\n",
       "| Fault | 64.15601705 | 64.8871418 | 52.09246397 | 72.9655760 | 1.00000000 | Confirmed |\n",
       "| Month | 14.62740841 | 14.9000471 |  9.91861658 | 18.4375466 | 1.00000000 | Confirmed |\n",
       "| DayOfWeek | -0.28376281 | -0.1772506 | -2.07537514 |  1.0021778 | 0.00000000 | Rejected  |\n",
       "| Make |  1.96450469 |  1.9271750 | -1.54312578 |  5.6563179 | 0.35353535 | Tentative |\n",
       "| AccidentArea |  0.13299225 |  0.3705811 | -1.12637817 |  0.8964979 | 0.00000000 | Rejected  |\n",
       "| NumberOfSuppliments |  0.28026275 |  0.3946262 | -0.94315535 |  1.7559103 | 0.00000000 | Rejected  |\n",
       "| AddressChange_Claim | 16.42055669 | 16.3762545 | 13.50141217 | 18.9310414 | 1.00000000 | Confirmed |\n",
       "| NumberOfCars |  1.00174461 |  0.8961558 | -0.50604344 |  2.5683734 | 0.03030303 | Rejected  |\n",
       "| Days_Policy_Claim |  2.33574653 |  2.3368106 | -0.13235726 |  4.6794461 | 0.45454545 | Tentative |\n",
       "| PastNumberOfClaims |  3.74857719 |  3.6965041 |  1.25167150 |  6.3597209 | 0.81818182 | Confirmed |\n",
       "| AgeOfVehicle | 17.45266046 | 17.7267782 | 13.48693103 | 20.2568501 | 1.00000000 | Confirmed |\n",
       "| AgeOfPolicyHolder | 18.26070510 | 18.4847658 | 12.87269897 | 21.0336187 | 1.00000000 | Confirmed |\n",
       "| PoliceReportFiled |  1.09699433 |  1.1964736 | -1.16665559 |  2.7257332 | 0.01010101 | Rejected  |\n",
       "| WitnessPresent |  2.37116315 |  2.3261486 |  0.05090537 |  4.9224715 | 0.49494949 | Tentative |\n",
       "| AgentType | -1.17445600 | -1.3556529 | -2.92152943 |  0.7340742 | 0.00000000 | Rejected  |\n",
       "| PolicyType | 11.59644683 | 11.5577724 |  9.97538205 | 14.0239786 | 1.00000000 | Confirmed |\n",
       "| VehiclePrice |  1.74671161 |  1.7159844 | -0.76662501 |  4.8050547 | 0.14141414 | Rejected  |\n",
       "| BasePolicy | 22.98692536 | 22.0492383 | 19.39272887 | 27.0832424 | 1.00000000 | Confirmed |\n",
       "| DayOfWeekClaimed |  1.04093011 |  0.7888974 | -0.47508931 |  3.1238643 | 0.03030303 | Rejected  |\n",
       "| MonthClaimed | 15.17170968 | 15.4767722 | 10.29269680 | 18.5224592 | 1.00000000 | Confirmed |\n",
       "| Sex |  3.09344876 |  2.9792401 | -0.20657933 |  5.8996211 | 0.66666667 | Tentative |\n",
       "| MaritalStatus |  7.77948573 |  7.8742622 |  5.03647127 | 10.3720879 | 1.00000000 | Confirmed |\n",
       "| Days_Policy_Accident |  0.53710823 |  0.5525459 | -2.15031679 |  2.0734529 | 0.00000000 | Rejected  |\n",
       "| VehicleCategory | 14.33322785 | 14.2326317 | 12.08385819 | 16.5249469 | 1.00000000 | Confirmed |\n",
       "\n"
      ],
      "text/plain": [
       "                     meanImp     medianImp  minImp      maxImp     normHits  \n",
       "WeekOfMonth           4.05430558  4.0009641  0.88491137  7.8599242 0.86868687\n",
       "Age                  21.06098381 21.4918711 15.42022727 24.3851062 1.00000000\n",
       "WeekOfMonthClaimed    3.95134141  3.9249441 -0.07230726  6.3393921 0.84848485\n",
       "PolicyNumber         12.60853039 12.5845786  7.37297905 16.6521428 1.00000000\n",
       "RepNumber             0.07670731 -0.1481162 -1.71676579  2.0144172 0.01010101\n",
       "Deductible           15.89571073 15.9521025 13.20599069 17.8623553 1.00000000\n",
       "DriverRating          0.11709212  0.3546933 -2.63370341  1.5701312 0.00000000\n",
       "Year                 10.77119612 10.8088445  6.41836543 14.5011968 1.00000000\n",
       "Fault                64.15601705 64.8871418 52.09246397 72.9655760 1.00000000\n",
       "Month                14.62740841 14.9000471  9.91861658 18.4375466 1.00000000\n",
       "DayOfWeek            -0.28376281 -0.1772506 -2.07537514  1.0021778 0.00000000\n",
       "Make                  1.96450469  1.9271750 -1.54312578  5.6563179 0.35353535\n",
       "AccidentArea          0.13299225  0.3705811 -1.12637817  0.8964979 0.00000000\n",
       "NumberOfSuppliments   0.28026275  0.3946262 -0.94315535  1.7559103 0.00000000\n",
       "AddressChange_Claim  16.42055669 16.3762545 13.50141217 18.9310414 1.00000000\n",
       "NumberOfCars          1.00174461  0.8961558 -0.50604344  2.5683734 0.03030303\n",
       "Days_Policy_Claim     2.33574653  2.3368106 -0.13235726  4.6794461 0.45454545\n",
       "PastNumberOfClaims    3.74857719  3.6965041  1.25167150  6.3597209 0.81818182\n",
       "AgeOfVehicle         17.45266046 17.7267782 13.48693103 20.2568501 1.00000000\n",
       "AgeOfPolicyHolder    18.26070510 18.4847658 12.87269897 21.0336187 1.00000000\n",
       "PoliceReportFiled     1.09699433  1.1964736 -1.16665559  2.7257332 0.01010101\n",
       "WitnessPresent        2.37116315  2.3261486  0.05090537  4.9224715 0.49494949\n",
       "AgentType            -1.17445600 -1.3556529 -2.92152943  0.7340742 0.00000000\n",
       "PolicyType           11.59644683 11.5577724  9.97538205 14.0239786 1.00000000\n",
       "VehiclePrice          1.74671161  1.7159844 -0.76662501  4.8050547 0.14141414\n",
       "BasePolicy           22.98692536 22.0492383 19.39272887 27.0832424 1.00000000\n",
       "DayOfWeekClaimed      1.04093011  0.7888974 -0.47508931  3.1238643 0.03030303\n",
       "MonthClaimed         15.17170968 15.4767722 10.29269680 18.5224592 1.00000000\n",
       "Sex                   3.09344876  2.9792401 -0.20657933  5.8996211 0.66666667\n",
       "MaritalStatus         7.77948573  7.8742622  5.03647127 10.3720879 1.00000000\n",
       "Days_Policy_Accident  0.53710823  0.5525459 -2.15031679  2.0734529 0.00000000\n",
       "VehicleCategory      14.33322785 14.2326317 12.08385819 16.5249469 1.00000000\n",
       "                     decision \n",
       "WeekOfMonth          Confirmed\n",
       "Age                  Confirmed\n",
       "WeekOfMonthClaimed   Confirmed\n",
       "PolicyNumber         Confirmed\n",
       "RepNumber            Rejected \n",
       "Deductible           Confirmed\n",
       "DriverRating         Rejected \n",
       "Year                 Confirmed\n",
       "Fault                Confirmed\n",
       "Month                Confirmed\n",
       "DayOfWeek            Rejected \n",
       "Make                 Tentative\n",
       "AccidentArea         Rejected \n",
       "NumberOfSuppliments  Rejected \n",
       "AddressChange_Claim  Confirmed\n",
       "NumberOfCars         Rejected \n",
       "Days_Policy_Claim    Tentative\n",
       "PastNumberOfClaims   Confirmed\n",
       "AgeOfVehicle         Confirmed\n",
       "AgeOfPolicyHolder    Confirmed\n",
       "PoliceReportFiled    Rejected \n",
       "WitnessPresent       Tentative\n",
       "AgentType            Rejected \n",
       "PolicyType           Confirmed\n",
       "VehiclePrice         Rejected \n",
       "BasePolicy           Confirmed\n",
       "DayOfWeekClaimed     Rejected \n",
       "MonthClaimed         Confirmed\n",
       "Sex                  Tentative\n",
       "MaritalStatus        Confirmed\n",
       "Days_Policy_Accident Rejected \n",
       "VehicleCategory      Confirmed"
      ]
     },
     "metadata": {},
     "output_type": "display_data"
    }
   ],
   "source": [
    "attStats(boruta)"
   ]
  },
  {
   "cell_type": "markdown",
   "id": "19c31013",
   "metadata": {},
   "source": [
    "# Diving dataset into train and test"
   ]
  },
  {
   "cell_type": "code",
   "execution_count": 25,
   "id": "94a5adad",
   "metadata": {},
   "outputs": [
    {
     "data": {
      "text/html": [
       "<style>\n",
       ".list-inline {list-style: none; margin:0; padding: 0}\n",
       ".list-inline>li {display: inline-block}\n",
       ".list-inline>li:not(:last-child)::after {content: \"\\00b7\"; padding: 0 .5ex}\n",
       "</style>\n",
       "<ol class=list-inline><li>11214</li><li>33</li></ol>\n"
      ],
      "text/latex": [
       "\\begin{enumerate*}\n",
       "\\item 11214\n",
       "\\item 33\n",
       "\\end{enumerate*}\n"
      ],
      "text/markdown": [
       "1. 11214\n",
       "2. 33\n",
       "\n",
       "\n"
      ],
      "text/plain": [
       "[1] 11214    33"
      ]
     },
     "metadata": {},
     "output_type": "display_data"
    },
    {
     "data": {
      "text/html": [
       "<style>\n",
       ".list-inline {list-style: none; margin:0; padding: 0}\n",
       ".list-inline>li {display: inline-block}\n",
       ".list-inline>li:not(:last-child)::after {content: \"\\00b7\"; padding: 0 .5ex}\n",
       "</style>\n",
       "<ol class=list-inline><li>4206</li><li>33</li></ol>\n"
      ],
      "text/latex": [
       "\\begin{enumerate*}\n",
       "\\item 4206\n",
       "\\item 33\n",
       "\\end{enumerate*}\n"
      ],
      "text/markdown": [
       "1. 4206\n",
       "2. 33\n",
       "\n",
       "\n"
      ],
      "text/plain": [
       "[1] 4206   33"
      ]
     },
     "metadata": {},
     "output_type": "display_data"
    }
   ],
   "source": [
    "set.seed(1234)   #  set seed to ensure you always have same random numbers generated\n",
    "sample = sample.split(mydata,SplitRatio = 0.75) # splits the data in the ratio mentioned in SplitRatio. After splitting marks these rows as logical TRUE and the the remaining are marked as logical FALSE\n",
    "train.data =subset(mydata,sample ==TRUE) # creates a training dataset named train1 with rows which are marked as TRUE\n",
    "test.data=subset(mydata, sample==FALSE)\n",
    "\n",
    "dim(train.data)\n",
    "dim(test.data)"
   ]
  },
  {
   "cell_type": "code",
   "execution_count": 26,
   "id": "084f5ee3",
   "metadata": {},
   "outputs": [
    {
     "data": {
      "image/png": "[encoded data removed]",
      "text/plain": [
       "Plot with title \"Class Distrubution\""
      ]
     },
     "metadata": {
      "image/png": {
       "height": 420,
       "width": 420
      }
     },
     "output_type": "display_data"
    }
   ],
   "source": [
    "barplot(prop.table(table(mydata$FraudFound_P)),\n",
    "       col=rainbow(2),\n",
    "       ylim=c(0, 0.7),\n",
    "       main=\"Class Distrubution\")"
   ]
  },
  {
   "cell_type": "markdown",
   "id": "32d3f10d",
   "metadata": {},
   "source": [
    "# Balancing data "
   ]
  },
  {
   "cell_type": "code",
   "execution_count": 27,
   "id": "a58bf34f",
   "metadata": {},
   "outputs": [
    {
     "name": "stderr",
     "output_type": "stream",
     "text": [
      "Loaded ROSE 0.0-4\n",
      "\n",
      "\n"
     ]
    }
   ],
   "source": [
    "library(ROSE)"
   ]
  },
  {
   "cell_type": "code",
   "execution_count": 28,
   "id": "d05a694e",
   "metadata": {},
   "outputs": [],
   "source": [
    "mydata$FraudFound_P=as.factor(mydata$FraudFound_P)"
   ]
  },
  {
   "cell_type": "code",
   "execution_count": 29,
   "id": "9a1acb87",
   "metadata": {},
   "outputs": [
    {
     "data": {
      "text/plain": [
       "\n",
       "   0    1 \n",
       "5564 5650 "
      ]
     },
     "metadata": {},
     "output_type": "display_data"
    }
   ],
   "source": [
    "data_rose <- ROSE(FraudFound_P ~., data = train.data)$data\n",
    "table(data_rose$FraudFound_P)"
   ]
  },
  {
   "cell_type": "code",
   "execution_count": 30,
   "id": "919b893c",
   "metadata": {},
   "outputs": [
    {
     "ename": "ERROR",
     "evalue": "Error in eval(expr, envir, enclos): object 'l' not found\n",
     "output_type": "error",
     "traceback": [
      "Error in eval(expr, envir, enclos): object 'l' not found\nTraceback:\n"
     ]
    }
   ],
   "source": [
    "#install.packages(\"DMwR2\")\n",
    "#library(DMwR2)"
   ]
  },
  {
   "cell_type": "code",
   "execution_count": null,
   "id": "83108b10",
   "metadata": {},
   "outputs": [],
   "source": [
    "#install.packages(\"smotefamily\")\n",
    "#library(smotefamily)"
   ]
  },
  {
   "cell_type": "code",
   "execution_count": null,
   "id": "a7946012",
   "metadata": {},
   "outputs": [],
   "source": [
    "#data_smote <- SMOTE(FraudFound_P ~.,train.data, perc.over = 700, k=5, perc.under = 300)"
   ]
  },
  {
   "cell_type": "code",
   "execution_count": null,
   "id": "7a1e9296",
   "metadata": {},
   "outputs": [],
   "source": [
    "#summary(mydata$FraudFound_P)"
   ]
  },
  {
   "cell_type": "markdown",
   "id": "469b30a0",
   "metadata": {},
   "source": [
    "# Random Forest"
   ]
  },
  {
   "cell_type": "code",
   "execution_count": 31,
   "id": "c1264896",
   "metadata": {},
   "outputs": [
    {
     "name": "stderr",
     "output_type": "stream",
     "text": [
      "Warning message:\n",
      "\"package 'randomForest' is in use and will not be installed\"\n"
     ]
    }
   ],
   "source": [
    "install.packages('randomForest')\n",
    "library(randomForest)"
   ]
  },
  {
   "cell_type": "code",
   "execution_count": 32,
   "id": "65e55be8",
   "metadata": {},
   "outputs": [
    {
     "data": {
      "text/plain": [
       "Confusion Matrix and Statistics\n",
       "\n",
       "          Reference\n",
       "Prediction    0    1\n",
       "         0 3969    0\n",
       "         1  233    4\n",
       "                                          \n",
       "               Accuracy : 0.9446          \n",
       "                 95% CI : (0.9373, 0.9513)\n",
       "    No Information Rate : 0.999           \n",
       "    P-Value [Acc > NIR] : 1               \n",
       "                                          \n",
       "                  Kappa : 0.0314          \n",
       "                                          \n",
       " Mcnemar's Test P-Value : <2e-16          \n",
       "                                          \n",
       "            Sensitivity : 0.94455         \n",
       "            Specificity : 1.00000         \n",
       "         Pos Pred Value : 1.00000         \n",
       "         Neg Pred Value : 0.01688         \n",
       "              Precision : 1.00000         \n",
       "                 Recall : 0.94455         \n",
       "                     F1 : 0.97148         \n",
       "             Prevalence : 0.99905         \n",
       "         Detection Rate : 0.94365         \n",
       "   Detection Prevalence : 0.94365         \n",
       "      Balanced Accuracy : 0.97228         \n",
       "                                          \n",
       "       'Positive' Class : 0               \n",
       "                                          "
      ]
     },
     "metadata": {},
     "output_type": "display_data"
    }
   ],
   "source": [
    "rf.model<- randomForest(FraudFound_P~.,data = train.data,importance=TRUE,keep.forest=TRUE)\n",
    "rf.predict <- predict(rf.model, test.data)\n",
    "confusionMatrix(test.data$FraudFound_P, rf.predict, mode=\"everything\")"
   ]
  },
  {
   "cell_type": "code",
   "execution_count": 33,
   "id": "504d230c",
   "metadata": {},
   "outputs": [
    {
     "name": "stderr",
     "output_type": "stream",
     "text": [
      "Type 'citation(\"pROC\")' for a citation.\n",
      "\n",
      "\n",
      "Attaching package: 'pROC'\n",
      "\n",
      "\n",
      "The following object is masked from 'package:colorspace':\n",
      "\n",
      "    coords\n",
      "\n",
      "\n",
      "The following objects are masked from 'package:stats':\n",
      "\n",
      "    cov, smooth, var\n",
      "\n",
      "\n"
     ]
    }
   ],
   "source": [
    "#library for ROC\n",
    "library(pROC)"
   ]
  },
  {
   "cell_type": "code",
   "execution_count": 34,
   "id": "79e99a72",
   "metadata": {},
   "outputs": [
    {
     "name": "stderr",
     "output_type": "stream",
     "text": [
      "Setting levels: control = 0, case = 1\n",
      "\n",
      "Setting direction: controls < cases\n",
      "\n"
     ]
    },
    {
     "data": {
      "image/png": "[encoded data removed]",
      "text/plain": [
       "plot without title"
      ]
     },
     "metadata": {
      "image/png": {
       "height": 420,
       "width": 420
      }
     },
     "output_type": "display_data"
    }
   ],
   "source": [
    "test.data$rf.predict= rf.predict\n",
    "roc_rf= roc(response= test.data$FraudFound_P, predictor = factor(test.data$rf.predict, ordered=TRUE), plot=TRUE, print.auc=TRUE)"
   ]
  },
  {
   "cell_type": "code",
   "execution_count": 35,
   "id": "a8d3f70f",
   "metadata": {},
   "outputs": [
    {
     "data": {
      "text/plain": [
       "FraudFound_P ~ WeekOfMonth + Age + WeekOfMonthClaimed + PolicyNumber + \n",
       "    Deductible + Year + Fault + Month + Make + AddressChange_Claim + \n",
       "    Days_Policy_Claim + PastNumberOfClaims + AgeOfVehicle + AgeOfPolicyHolder + \n",
       "    WitnessPresent + PolicyType + BasePolicy + MonthClaimed + \n",
       "    Sex + MaritalStatus + VehicleCategory\n",
       "<environment: 0x00000238dfda4068>"
      ]
     },
     "metadata": {},
     "output_type": "display_data"
    },
    {
     "data": {
      "text/plain": [
       "Confusion Matrix and Statistics\n",
       "\n",
       "          Reference\n",
       "Prediction    0    1\n",
       "         0 3963    6\n",
       "         1  226   11\n",
       "                                          \n",
       "               Accuracy : 0.9448          \n",
       "                 95% CI : (0.9375, 0.9515)\n",
       "    No Information Rate : 0.996           \n",
       "    P-Value [Acc > NIR] : 1               \n",
       "                                          \n",
       "                  Kappa : 0.0797          \n",
       "                                          \n",
       " Mcnemar's Test P-Value : <2e-16          \n",
       "                                          \n",
       "            Sensitivity : 0.94605         \n",
       "            Specificity : 0.64706         \n",
       "         Pos Pred Value : 0.99849         \n",
       "         Neg Pred Value : 0.04641         \n",
       "              Precision : 0.99849         \n",
       "                 Recall : 0.94605         \n",
       "                     F1 : 0.97156         \n",
       "             Prevalence : 0.99596         \n",
       "         Detection Rate : 0.94223         \n",
       "   Detection Prevalence : 0.94365         \n",
       "      Balanced Accuracy : 0.79655         \n",
       "                                          \n",
       "       'Positive' Class : 0               \n",
       "                                          "
      ]
     },
     "metadata": {},
     "output_type": "display_data"
    }
   ],
   "source": [
    "getNonRejectedFormula(boruta)\n",
    "rfb.model<- randomForest(FraudFound_P~WeekOfMonth + Age + WeekOfMonthClaimed\n",
    "                         + Deductible + Year + Fault + Month + AddressChange_Claim + PastNumberOfClaims \n",
    "                         + AgeOfVehicle + AgeOfPolicyHolder + PolicyType + BasePolicy + MonthClaimed + MaritalStatus \n",
    "                         + VehicleCategory,data = train.data,importance=TRUE,keep.forest=TRUE)\n",
    "rfb.predict <- predict(rfb.model, test.data)\n",
    "confusionMatrix(test.data$FraudFound_P, rfb.predict, mode=\"everything\")"
   ]
  },
  {
   "cell_type": "code",
   "execution_count": 36,
   "id": "f8eb5321",
   "metadata": {},
   "outputs": [
    {
     "name": "stderr",
     "output_type": "stream",
     "text": [
      "Setting levels: control = 0, case = 1\n",
      "\n",
      "Setting direction: controls < cases\n",
      "\n"
     ]
    },
    {
     "data": {
      "image/png": "[encoded data removed]",
      "text/plain": [
       "plot without title"
      ]
     },
     "metadata": {
      "image/png": {
       "height": 420,
       "width": 420
      }
     },
     "output_type": "display_data"
    }
   ],
   "source": [
    "test.data$rfb.predict= rfb.predict\n",
    "roc_rfb= roc(response= test.data$FraudFound_P, predictor = factor(test.data$rfb.predict, ordered=TRUE), plot=TRUE, print.auc=TRUE)"
   ]
  },
  {
   "cell_type": "markdown",
   "id": "6f09d76e",
   "metadata": {},
   "source": [
    "Random Forest on Balanced dataset"
   ]
  },
  {
   "cell_type": "code",
   "execution_count": 37,
   "id": "ac045f4c",
   "metadata": {},
   "outputs": [
    {
     "data": {
      "text/plain": [
       "Confusion Matrix and Statistics\n",
       "\n",
       "          Reference\n",
       "Prediction    0    1\n",
       "         0 3324  645\n",
       "         1   93  144\n",
       "                                          \n",
       "               Accuracy : 0.8245          \n",
       "                 95% CI : (0.8127, 0.8359)\n",
       "    No Information Rate : 0.8124          \n",
       "    P-Value [Acc > NIR] : 0.02236         \n",
       "                                          \n",
       "                  Kappa : 0.2124          \n",
       "                                          \n",
       " Mcnemar's Test P-Value : < 2e-16         \n",
       "                                          \n",
       "            Sensitivity : 0.9728          \n",
       "            Specificity : 0.1825          \n",
       "         Pos Pred Value : 0.8375          \n",
       "         Neg Pred Value : 0.6076          \n",
       "              Precision : 0.8375          \n",
       "                 Recall : 0.9728          \n",
       "                     F1 : 0.9001          \n",
       "             Prevalence : 0.8124          \n",
       "         Detection Rate : 0.7903          \n",
       "   Detection Prevalence : 0.9437          \n",
       "      Balanced Accuracy : 0.5776          \n",
       "                                          \n",
       "       'Positive' Class : 0               \n",
       "                                          "
      ]
     },
     "metadata": {},
     "output_type": "display_data"
    }
   ],
   "source": [
    "rf.model1<- randomForest(FraudFound_P~WeekOfMonth + Age + WeekOfMonthClaimed + Deductible + Year + Fault \n",
    "                         + Month + AddressChange_Claim + PastNumberOfClaims + AgeOfVehicle + AgeOfPolicyHolder + PolicyType \n",
    "                         + BasePolicy + MonthClaimed + MaritalStatus + VehicleCategory,data = data_rose,importance=TRUE,keep.forest=TRUE)\n",
    "rf.predict1 <- predict(rf.model1, test.data)\n",
    "confusionMatrix(test.data$FraudFound_P, rf.predict1, mode=\"everything\")"
   ]
  },
  {
   "cell_type": "code",
   "execution_count": 38,
   "id": "c9049230",
   "metadata": {},
   "outputs": [
    {
     "name": "stderr",
     "output_type": "stream",
     "text": [
      "Setting levels: control = 0, case = 1\n",
      "\n",
      "Setting direction: controls < cases\n",
      "\n"
     ]
    },
    {
     "data": {
      "image/png": "[encoded data removed]",
      "text/plain": [
       "plot without title"
      ]
     },
     "metadata": {
      "image/png": {
       "height": 420,
       "width": 420
      }
     },
     "output_type": "display_data"
    }
   ],
   "source": [
    "test.data$rf.predict1= rf.predict1\n",
    "roc_rf1= roc(response= test.data$FraudFound_P, predictor = factor(test.data$rf.predict1, ordered=TRUE), plot=TRUE, print.auc=TRUE)"
   ]
  },
  {
   "cell_type": "markdown",
   "id": "bdbf32a7",
   "metadata": {},
   "source": [
    "# SVM"
   ]
  },
  {
   "cell_type": "code",
   "execution_count": 39,
   "id": "61a8adca",
   "metadata": {},
   "outputs": [
    {
     "name": "stderr",
     "output_type": "stream",
     "text": [
      "\n",
      "Attaching package: 'e1071'\n",
      "\n",
      "\n",
      "The following objects are masked from 'package:moments':\n",
      "\n",
      "    kurtosis, moment, skewness\n",
      "\n",
      "\n"
     ]
    }
   ],
   "source": [
    "library(e1071)"
   ]
  },
  {
   "cell_type": "code",
   "execution_count": 40,
   "id": "5f577fcd",
   "metadata": {},
   "outputs": [],
   "source": [
    "svm.model<- svm(FraudFound_P~., data = train.data,kernel = \"radial\", cost = 1, gamma = 0.1)\n",
    "svm.predict <- predict(svm.model, test.data)"
   ]
  },
  {
   "cell_type": "code",
   "execution_count": 41,
   "id": "52ea9ef7",
   "metadata": {},
   "outputs": [
    {
     "data": {
      "text/plain": [
       "Confusion Matrix and Statistics\n",
       "\n",
       "          Reference\n",
       "Prediction    0    1\n",
       "         0 3969    0\n",
       "         1  237    0\n",
       "                                          \n",
       "               Accuracy : 0.9437          \n",
       "                 95% CI : (0.9363, 0.9504)\n",
       "    No Information Rate : 1               \n",
       "    P-Value [Acc > NIR] : 1               \n",
       "                                          \n",
       "                  Kappa : 0               \n",
       "                                          \n",
       " Mcnemar's Test P-Value : <2e-16          \n",
       "                                          \n",
       "            Sensitivity : 0.9437          \n",
       "            Specificity :     NA          \n",
       "         Pos Pred Value :     NA          \n",
       "         Neg Pred Value :     NA          \n",
       "              Precision : 1.0000          \n",
       "                 Recall : 0.9437          \n",
       "                     F1 : 0.9710          \n",
       "             Prevalence : 1.0000          \n",
       "         Detection Rate : 0.9437          \n",
       "   Detection Prevalence : 0.9437          \n",
       "      Balanced Accuracy :     NA          \n",
       "                                          \n",
       "       'Positive' Class : 0               \n",
       "                                          "
      ]
     },
     "metadata": {},
     "output_type": "display_data"
    }
   ],
   "source": [
    "confusionMatrix(test.data$FraudFound_P, svm.predict, mode=\"everything\")"
   ]
  },
  {
   "cell_type": "code",
   "execution_count": 42,
   "id": "98ee6cf7",
   "metadata": {},
   "outputs": [
    {
     "name": "stderr",
     "output_type": "stream",
     "text": [
      "Setting levels: control = 0, case = 1\n",
      "\n",
      "Setting direction: controls < cases\n",
      "\n"
     ]
    },
    {
     "data": {
      "image/png": "[encoded data removed]",
      "text/plain": [
       "plot without title"
      ]
     },
     "metadata": {
      "image/png": {
       "height": 420,
       "width": 420
      }
     },
     "output_type": "display_data"
    }
   ],
   "source": [
    "test.data$svm.predict= svm.predict\n",
    "roc_svm= roc(response= test.data$FraudFound_P, predictor = factor(test.data$svm.predict, ordered=TRUE), plot=TRUE, print.auc=TRUE)"
   ]
  },
  {
   "cell_type": "code",
   "execution_count": 43,
   "id": "f3b95b5c",
   "metadata": {},
   "outputs": [
    {
     "data": {
      "text/plain": [
       "Confusion Matrix and Statistics\n",
       "\n",
       "          Reference\n",
       "Prediction    0    1\n",
       "         0 3969    0\n",
       "         1  233    4\n",
       "                                          \n",
       "               Accuracy : 0.9446          \n",
       "                 95% CI : (0.9373, 0.9513)\n",
       "    No Information Rate : 0.999           \n",
       "    P-Value [Acc > NIR] : 1               \n",
       "                                          \n",
       "                  Kappa : 0.0314          \n",
       "                                          \n",
       " Mcnemar's Test P-Value : <2e-16          \n",
       "                                          \n",
       "            Sensitivity : 0.94455         \n",
       "            Specificity : 1.00000         \n",
       "         Pos Pred Value : 1.00000         \n",
       "         Neg Pred Value : 0.01688         \n",
       "              Precision : 1.00000         \n",
       "                 Recall : 0.94455         \n",
       "                     F1 : 0.97148         \n",
       "             Prevalence : 0.99905         \n",
       "         Detection Rate : 0.94365         \n",
       "   Detection Prevalence : 0.94365         \n",
       "      Balanced Accuracy : 0.97228         \n",
       "                                          \n",
       "       'Positive' Class : 0               \n",
       "                                          "
      ]
     },
     "metadata": {},
     "output_type": "display_data"
    }
   ],
   "source": [
    "svmb.model<- svm(FraudFound_P~WeekOfMonth + Age + WeekOfMonthClaimed + Deductible + Year + Fault + Month \n",
    "                 + AddressChange_Claim + PastNumberOfClaims + AgeOfVehicle + AgeOfPolicyHolder + PolicyType + BasePolicy \n",
    "                 + MonthClaimed + MaritalStatus + VehicleCategory, data = train.data,kernel = \"radial\", cost = 1, gamma = 0.1)\n",
    "svmb.predict <- predict(svmb.model, test.data)\n",
    "confusionMatrix(test.data$FraudFound_P, svmb.predict, mode=\"everything\")"
   ]
  },
  {
   "cell_type": "code",
   "execution_count": 44,
   "id": "08de1e82",
   "metadata": {},
   "outputs": [
    {
     "name": "stderr",
     "output_type": "stream",
     "text": [
      "Setting levels: control = 0, case = 1\n",
      "\n",
      "Setting direction: controls < cases\n",
      "\n"
     ]
    },
    {
     "data": {
      "image/png": "[encoded data removed]",
      "text/plain": [
       "plot without title"
      ]
     },
     "metadata": {
      "image/png": {
       "height": 420,
       "width": 420
      }
     },
     "output_type": "display_data"
    }
   ],
   "source": [
    "test.data$svmb.predict= svmb.predict\n",
    "roc_svmb= roc(response= test.data$FraudFound_P, predictor = factor(test.data$svmb.predict, ordered=TRUE), plot=TRUE, print.auc=TRUE)"
   ]
  },
  {
   "cell_type": "markdown",
   "id": "9428b212",
   "metadata": {},
   "source": [
    "SVM on balanced data"
   ]
  },
  {
   "cell_type": "code",
   "execution_count": 45,
   "id": "0577e29f",
   "metadata": {},
   "outputs": [
    {
     "data": {
      "text/plain": [
       "Confusion Matrix and Statistics\n",
       "\n",
       "          Reference\n",
       "Prediction    0    1\n",
       "         0 3041  928\n",
       "         1   68  169\n",
       "                                       \n",
       "               Accuracy : 0.7632       \n",
       "                 95% CI : (0.75, 0.776)\n",
       "    No Information Rate : 0.7392       \n",
       "    P-Value [Acc > NIR] : 0.0001833    \n",
       "                                       \n",
       "                  Kappa : 0.1771       \n",
       "                                       \n",
       " Mcnemar's Test P-Value : < 2.2e-16    \n",
       "                                       \n",
       "            Sensitivity : 0.9781       \n",
       "            Specificity : 0.1541       \n",
       "         Pos Pred Value : 0.7662       \n",
       "         Neg Pred Value : 0.7131       \n",
       "              Precision : 0.7662       \n",
       "                 Recall : 0.9781       \n",
       "                     F1 : 0.8593       \n",
       "             Prevalence : 0.7392       \n",
       "         Detection Rate : 0.7230       \n",
       "   Detection Prevalence : 0.9437       \n",
       "      Balanced Accuracy : 0.5661       \n",
       "                                       \n",
       "       'Positive' Class : 0            \n",
       "                                       "
      ]
     },
     "metadata": {},
     "output_type": "display_data"
    }
   ],
   "source": [
    "svm.model1<- svm(FraudFound_P~WeekOfMonth + Age + WeekOfMonthClaimed + Deductible + Year + Fault + Month + AddressChange_Claim + PastNumberOfClaims + AgeOfVehicle + AgeOfPolicyHolder + PolicyType + BasePolicy + MonthClaimed + MaritalStatus + VehicleCategory, data = data_rose,kernel = \"radial\", cost = 1, gamma = 0.1)\n",
    "svm.predict1 <- predict(svm.model1, test.data)\n",
    "confusionMatrix(test.data$FraudFound_P, svm.predict1, mode=\"everything\")"
   ]
  },
  {
   "cell_type": "code",
   "execution_count": 46,
   "id": "919fd737",
   "metadata": {},
   "outputs": [
    {
     "name": "stderr",
     "output_type": "stream",
     "text": [
      "Setting levels: control = 0, case = 1\n",
      "\n",
      "Setting direction: controls < cases\n",
      "\n"
     ]
    },
    {
     "data": {
      "image/png": "[encoded data removed]",
      "text/plain": [
       "plot without title"
      ]
     },
     "metadata": {
      "image/png": {
       "height": 420,
       "width": 420
      }
     },
     "output_type": "display_data"
    }
   ],
   "source": [
    "test.data$svm.predict1= svm.predict1\n",
    "roc_svm1= roc(response= test.data$FraudFound_P, predictor = factor(test.data$svm.predict1, ordered=TRUE), plot=TRUE, print.auc=TRUE)"
   ]
  },
  {
   "cell_type": "code",
   "execution_count": null,
   "id": "2bd21298",
   "metadata": {},
   "outputs": [],
   "source": []
  }
 ],
 "metadata": {
  "kernelspec": {
   "display_name": "R",
   "language": "R",
   "name": "ir"
  },
  "language_info": {
   "codemirror_mode": "r",
   "file_extension": ".r",
   "mimetype": "text/x-r-source",
   "name": "R",
   "pygments_lexer": "r",
   "version": "4.2.2"
  }
 },
 "nbformat": 4,
 "nbformat_minor": 5
}
